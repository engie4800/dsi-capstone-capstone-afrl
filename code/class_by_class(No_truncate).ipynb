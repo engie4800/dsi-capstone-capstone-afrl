{
 "cells": [
  {
   "cell_type": "markdown",
   "metadata": {},
   "source": [
    "### In this file, we just repeat what we did in class_by_class.ipynb file multiple times to discover a more robust correlation between the entropy difference (of a subsample and its class) and the corresponding train/test set accuracy. However, we decide not to truncate the singular vector of the feature space and get BSIE value directly from it."
   ]
  },
  {
   "cell_type": "code",
   "execution_count": 1,
   "metadata": {},
   "outputs": [],
   "source": [
    "import torch\n",
    "import torchvision\n",
    "import tarfile\n",
    "from torchvision.datasets.utils import download_url\n",
    "from torch.utils.data import random_split, DataLoader, SubsetRandomSampler, Subset, ConcatDataset\n",
    "import os\n",
    "from Truncate import truncate\n",
    "from BSI_Entropy import BSIE\n",
    "import numpy as np\n",
    "from torchvision.datasets import ImageFolder\n",
    "from torchvision.transforms import ToTensor\n",
    "import pandas as pd\n",
    "import seaborn as sns\n",
    "import matplotlib.pyplot as plt"
   ]
  },
  {
   "cell_type": "markdown",
   "metadata": {},
   "source": [
    "#### We first load in the Cifar-10 images and have all the classes/functions set up like before"
   ]
  },
  {
   "cell_type": "code",
   "execution_count": 2,
   "metadata": {},
   "outputs": [],
   "source": [
    "data_dir = './data/cifar10'\n",
    "training_dataset = ImageFolder(data_dir+'/train', transform=ToTensor())\n",
    "test_dataset = ImageFolder(data_dir+'/test', transform=ToTensor())"
   ]
  },
  {
   "cell_type": "code",
   "execution_count": 3,
   "metadata": {},
   "outputs": [],
   "source": [
    "def get_default_device():\n",
    "    \"\"\"Pick GPU if available, else CPU\"\"\"\n",
    "    if torch.cuda.is_available():\n",
    "        return torch.device('cuda')\n",
    "    else:\n",
    "        return torch.device('cpu')\n",
    "    \n",
    "def to_device(data, device):\n",
    "    \"\"\"Move tensor(s) to chosen device\"\"\"\n",
    "    if isinstance(data, (list,tuple)):\n",
    "        return [to_device(x, device) for x in data]\n",
    "    return data.to(device, non_blocking=True)\n",
    "class DeviceDataLoader():\n",
    "    \"\"\"Wrap a dataloader to move data to a device\"\"\"\n",
    "    def __init__(self, dl, device):\n",
    "        self.dl = dl\n",
    "        self.device = device\n",
    "        \n",
    "    def __iter__(self):\n",
    "        \"\"\"Yield a batch of data after moving it to device\"\"\"\n",
    "        for b in self.dl: \n",
    "            yield to_device(b, self.device)\n",
    "\n",
    "    def __len__(self):\n",
    "        \"\"\"Number of batches\"\"\"\n",
    "        return len(self.dl)"
   ]
  },
  {
   "cell_type": "code",
   "execution_count": 4,
   "metadata": {},
   "outputs": [],
   "source": [
    "import torch.nn as nn\n",
    "import torch.nn.functional as F\n",
    "\n",
    "class ImageClassificationBase(nn.Module):\n",
    "    def training_step(self, batch):\n",
    "        images, labels = batch \n",
    "        out = self(images)                  # Generate predictions\n",
    "        loss = F.cross_entropy(out, labels) # Calculate loss\n",
    "        return loss\n",
    "    \n",
    "    def validation_step(self, batch):\n",
    "        images, labels = batch \n",
    "        out = self(images)                    # Generate predictions\n",
    "        loss = F.cross_entropy(out, labels)   # Calculate loss\n",
    "        acc = accuracy(out, labels)           # Calculate accuracy\n",
    "        return {'val_loss': loss.detach(), 'val_acc': acc}\n",
    "        \n",
    "    def validation_epoch_end(self, outputs):\n",
    "        batch_losses = [x['val_loss'] for x in outputs]\n",
    "        epoch_loss = torch.stack(batch_losses).mean()   # Combine losses\n",
    "        batch_accs = [x['val_acc'] for x in outputs]\n",
    "        epoch_acc = torch.stack(batch_accs).mean()      # Combine accuracies\n",
    "        return {'val_loss': epoch_loss.item(), 'val_acc': epoch_acc.item()}\n",
    "    def epoch_end(self, epoch, result):\n",
    "        print(\"Epoch [{}], train_loss: {:.4f}, val_loss: {:.4f}, val_acc: {:.4f}\".format(\n",
    "            epoch, result['train_loss'], result['val_loss'], result['val_acc']))\n",
    "        \n",
    "def accuracy(outputs, labels):\n",
    "    _, preds = torch.max(outputs, dim=1)\n",
    "    return torch.tensor(torch.sum(preds == labels).item() / len(preds))"
   ]
  },
  {
   "cell_type": "code",
   "execution_count": 5,
   "metadata": {},
   "outputs": [],
   "source": [
    "@torch.no_grad()\n",
    "def evaluate(model, val_loader):\n",
    "    model.eval()\n",
    "    outputs = [model.validation_step(batch) for batch in val_loader]\n",
    "    return model.validation_epoch_end(outputs)\n",
    "\n",
    "def fit(epochs, lr, model, train_loader, val_loader, opt_func=torch.optim.SGD):\n",
    "    history = []\n",
    "    optimizer = opt_func(model.parameters(), lr)\n",
    "    for epoch in range(epochs):\n",
    "        # Training Phase \n",
    "        model.train()\n",
    "        train_losses = []\n",
    "        for batch in train_loader:\n",
    "            loss = model.training_step(batch)\n",
    "            train_losses.append(loss)\n",
    "            loss.backward()\n",
    "            optimizer.step()\n",
    "            optimizer.zero_grad()\n",
    "        # Validation phase\n",
    "        result = evaluate(model, val_loader)\n",
    "        result['train_loss'] = torch.stack(train_losses).mean().item()\n",
    "        model.epoch_end(epoch, result)\n",
    "        history.append(result)\n",
    "    return history"
   ]
  },
  {
   "cell_type": "code",
   "execution_count": 6,
   "metadata": {},
   "outputs": [],
   "source": [
    "class Cifar10CnnModel(ImageClassificationBase):\n",
    "    def __init__(self):\n",
    "        super().__init__()\n",
    "        self.network = nn.Sequential(\n",
    "            nn.Conv2d(3, 32, kernel_size=3, padding=1),\n",
    "            nn.ReLU(),\n",
    "            nn.Conv2d(32, 64, kernel_size=3, stride=1, padding=1),\n",
    "            nn.ReLU(),\n",
    "            nn.MaxPool2d(2, 2), # output: 64 x 16 x 16\n",
    "\n",
    "            nn.Conv2d(64, 128, kernel_size=3, stride=1, padding=1),\n",
    "            nn.ReLU(),\n",
    "            nn.Conv2d(128, 128, kernel_size=3, stride=1, padding=1),\n",
    "            nn.ReLU(),\n",
    "            nn.MaxPool2d(2, 2), # output: 128 x 8 x 8\n",
    "\n",
    "            nn.Conv2d(128, 256, kernel_size=3, stride=1, padding=1),\n",
    "            nn.ReLU(),\n",
    "            nn.Conv2d(256, 256, kernel_size=3, stride=1, padding=1),\n",
    "            nn.ReLU(),\n",
    "            nn.MaxPool2d(2, 2), # output: 256 x 4 x 4\n",
    "\n",
    "            nn.Flatten(), \n",
    "            nn.Linear(256*4*4, 1024),\n",
    "            nn.ReLU(),\n",
    "            nn.Linear(1024, 64),\n",
    "            nn.ReLU(),\n",
    "            nn.Linear(64, 10))\n",
    "        \n",
    "    def forward(self, xb):\n",
    "        return self.network(xb)"
   ]
  },
  {
   "cell_type": "code",
   "execution_count": 7,
   "metadata": {},
   "outputs": [
    {
     "data": {
      "text/plain": [
       "device(type='cpu')"
      ]
     },
     "execution_count": 7,
     "metadata": {},
     "output_type": "execute_result"
    }
   ],
   "source": [
    "device = get_default_device()\n",
    "device"
   ]
  },
  {
   "cell_type": "markdown",
   "metadata": {},
   "source": [
    "#### Now we create a model object from the class and assign it trained parameters we saved before"
   ]
  },
  {
   "cell_type": "code",
   "execution_count": 8,
   "metadata": {},
   "outputs": [],
   "source": [
    "modelCNN = to_device(Cifar10CnnModel(), device)"
   ]
  },
  {
   "cell_type": "code",
   "execution_count": 9,
   "metadata": {},
   "outputs": [
    {
     "data": {
      "text/plain": [
       "<All keys matched successfully>"
      ]
     },
     "execution_count": 9,
     "metadata": {},
     "output_type": "execute_result"
    }
   ],
   "source": [
    "modelCNN.load_state_dict(torch.load('cifar10-cnn.pth')) # load our pretrained model parameters and assign to the new model object"
   ]
  },
  {
   "cell_type": "code",
   "execution_count": 10,
   "metadata": {},
   "outputs": [
    {
     "data": {
      "text/plain": [
       "(50000, 10000)"
      ]
     },
     "execution_count": 10,
     "metadata": {},
     "output_type": "execute_result"
    }
   ],
   "source": [
    "len(training_dataset), len(test_dataset) # make sure the number of images/labels in train and test set are correct"
   ]
  },
  {
   "cell_type": "code",
   "execution_count": 11,
   "metadata": {},
   "outputs": [
    {
     "data": {
      "text/plain": [
       "{'val_loss': 0.9372484087944031, 'val_acc': 0.7689453363418579}"
      ]
     },
     "execution_count": 11,
     "metadata": {},
     "output_type": "execute_result"
    }
   ],
   "source": [
    "from torch.utils.data.dataloader import DataLoader\n",
    "batch_size=128\n",
    "test_loader = DeviceDataLoader(DataLoader(test_dataset, batch_size*2), device)\n",
    "evaluate(modelCNN, test_loader)"
   ]
  },
  {
   "cell_type": "markdown",
   "metadata": {},
   "source": [
    "#### This following function helps us to attain intermediate feature in our embedding function which is the CNN we just created using the parameters we load in."
   ]
  },
  {
   "cell_type": "code",
   "execution_count": 12,
   "metadata": {},
   "outputs": [],
   "source": [
    "features = {}\n",
    "def get_features(name):\n",
    "    def hook(model, input, output):\n",
    "        features[name] = output.detach()\n",
    "\n",
    "    return hook"
   ]
  },
  {
   "cell_type": "code",
   "execution_count": 13,
   "metadata": {},
   "outputs": [
    {
     "data": {
      "text/plain": [
       "<torch.utils.hooks.RemovableHandle at 0x22152648910>"
      ]
     },
     "execution_count": 13,
     "metadata": {},
     "output_type": "execute_result"
    }
   ],
   "source": [
    "modelCNN.network[18].register_forward_hook(get_features('18'))"
   ]
  },
  {
   "cell_type": "markdown",
   "metadata": {},
   "source": [
    "#### In the following code, we attain the intermediate feature space for each class in the training set"
   ]
  },
  {
   "cell_type": "code",
   "execution_count": 14,
   "metadata": {},
   "outputs": [],
   "source": [
    "class_feature_data = {label: [] for label in range(10)}"
   ]
  },
  {
   "cell_type": "code",
   "execution_count": 15,
   "metadata": {},
   "outputs": [],
   "source": [
    "for image, label in training_dataset:\n",
    "    if label in class_feature_data:\n",
    "        output = modelCNN(to_device(image.unsqueeze(0), device))\n",
    "        class_feature_data[label].append(features['18'])"
   ]
  },
  {
   "cell_type": "code",
   "execution_count": 16,
   "metadata": {},
   "outputs": [],
   "source": [
    "for label in class_feature_data:\n",
    "    class_feature_data[label] = torch.cat(class_feature_data[label], dim = 0).T "
   ]
  },
  {
   "cell_type": "markdown",
   "metadata": {},
   "source": [
    "##### We then apply SVD to the feature space of each training class to attain singular vector. "
   ]
  },
  {
   "cell_type": "code",
   "execution_count": 17,
   "metadata": {},
   "outputs": [
    {
     "name": "stdout",
     "output_type": "stream",
     "text": [
      "{0: tensor([8305.8789, 1585.3182, 1073.5406,  963.0099,  828.8642,  769.5621,\n",
      "         616.4266,  580.3412,  516.1616,  488.6954,  402.4275,  341.2084,\n",
      "         275.5750,  266.5753,  257.8827,  231.7271,  198.1219,  183.4829,\n",
      "         180.9243,  177.5941,  156.9813,  144.6703,  141.9810,  132.6933,\n",
      "         126.5861,  122.6644,  117.9465,  113.8699,  110.0822,  106.3363,\n",
      "         103.7124,   93.6782,   91.7617,   89.5256,   84.1956,   82.4179,\n",
      "          80.3859,   78.2227,   75.4202,   72.8308,   71.0707,   69.9203,\n",
      "          65.3629,   64.8393,   62.6921,   60.4378,   58.1620,   56.9152,\n",
      "          54.7706,   54.1711,   52.7214,   51.6815,   50.4430,   49.4335,\n",
      "          47.0124,   45.7740,   43.8802,   43.6093,   42.2480,   40.5315,\n",
      "          39.1501,   37.6497,   36.0807,   34.7374]), 1: tensor([12095.2061,  1403.4337,  1103.4655,   963.6672,   940.5552,   853.0527,\n",
      "          744.2352,   670.6514,   567.7023,   496.4117,   435.3126,   407.3419,\n",
      "          350.2057,   277.2058,   250.3987,   228.0301,   213.1301,   201.9636,\n",
      "          183.1754,   177.0799,   173.2148,   157.2500,   154.9059,   141.8093,\n",
      "          136.7393,   130.5036,   123.9009,   111.7951,   109.5792,   104.0679,\n",
      "          102.0208,    98.5726,    95.6230,    92.5422,    91.4762,    87.7978,\n",
      "           85.6393,    80.0061,    75.8346,    74.1482,    72.9685,    70.6738,\n",
      "           68.0645,    67.4477,    63.2545,    62.6573,    58.7270,    57.1137,\n",
      "           55.9109,    54.9257,    53.4217,    51.6753,    50.8225,    49.1771,\n",
      "           46.7251,    46.5821,    44.0645,    43.7546,    42.5789,    39.9152,\n",
      "           38.9562,    36.2970,    35.4175,    31.8563]), 2: tensor([6268.6768,  996.6603,  861.0262,  768.5312,  739.1451,  694.6696,\n",
      "         600.1634,  527.4907,  457.0351,  414.4943,  364.2594,  286.4704,\n",
      "         252.5366,  232.2138,  215.6590,  201.4022,  193.2244,  170.9879,\n",
      "         168.6637,  152.4425,  139.6423,  135.0280,  128.0127,  120.3685,\n",
      "         113.6636,  107.9870,  103.6013,  101.6421,   95.3172,   93.9559,\n",
      "          88.8051,   85.6524,   82.2905,   80.0169,   76.2634,   74.8454,\n",
      "          73.6839,   72.4649,   67.7688,   66.6625,   64.4223,   61.4686,\n",
      "          60.3447,   58.9813,   57.0994,   55.9028,   54.6610,   53.0541,\n",
      "          49.8968,   48.1705,   46.9777,   46.7670,   45.8985,   43.3955,\n",
      "          42.3475,   41.3480,   40.6217,   39.2341,   37.1279,   36.3377,\n",
      "          35.2792,   34.6068,   33.2892,   31.7638]), 3: tensor([6473.5073,  841.2786,  778.4031,  699.7131,  636.0625,  580.7430,\n",
      "         545.3973,  478.3984,  441.1371,  360.8887,  271.3305,  227.0016,\n",
      "         215.7848,  210.0773,  184.9863,  174.0165,  161.9877,  152.2511,\n",
      "         149.6021,  136.9679,  129.8981,  125.9189,  120.4214,  109.9679,\n",
      "         104.4016,  103.5947,   97.8948,   96.5096,   85.8014,   85.5063,\n",
      "          82.8391,   81.4511,   78.8962,   73.4542,   70.5081,   69.6882,\n",
      "          66.7658,   64.2578,   64.0274,   62.4119,   60.9270,   60.1115,\n",
      "          58.6312,   55.4811,   53.9831,   52.1251,   51.3327,   50.8141,\n",
      "          47.4976,   47.1265,   45.3364,   43.8578,   43.6088,   43.3220,\n",
      "          41.2991,   39.3377,   38.7576,   37.6581,   36.6142,   35.8798,\n",
      "          34.7457,   33.8410,   33.0287,   31.0110]), 4: tensor([7251.3999, 1030.9064,  909.2327,  707.2688,  637.4417,  578.5201,\n",
      "         508.1140,  466.0776,  446.0780,  397.8710,  320.4633,  269.8743,\n",
      "         264.0945,  229.7420,  226.3317,  194.3986,  188.6454,  166.8791,\n",
      "         154.9358,  152.1550,  140.9037,  124.5961,  121.1879,  118.2018,\n",
      "         111.4068,   99.5754,   99.0052,   96.0552,   93.1947,   88.4500,\n",
      "          83.6878,   81.2279,   77.7753,   77.0465,   75.4441,   72.9830,\n",
      "          69.8479,   68.6878,   66.5030,   65.3280,   62.9284,   60.9607,\n",
      "          57.7178,   55.7312,   55.0482,   51.6707,   50.9145,   48.9035,\n",
      "          48.0556,   47.2219,   46.6511,   44.7408,   42.6484,   41.6211,\n",
      "          40.9727,   39.4311,   38.1823,   37.1305,   35.6565,   34.5898,\n",
      "          33.4765,   32.3365,   31.2384,   30.4821]), 5: tensor([6615.5000,  935.8938,  749.0901,  681.4392,  659.0427,  591.3130,\n",
      "         568.2397,  471.9457,  434.5263,  397.9953,  320.4688,  229.8735,\n",
      "         207.7418,  199.3160,  181.2436,  179.3377,  164.5392,  158.5162,\n",
      "         144.6888,  135.9444,  125.6181,  122.4719,  114.7564,  108.4020,\n",
      "          98.2476,   96.3082,   94.3113,   87.3923,   86.2062,   83.2604,\n",
      "          80.6292,   78.4679,   76.5878,   72.7462,   71.2571,   69.3191,\n",
      "          67.5854,   64.7256,   61.7663,   59.2221,   57.9550,   57.0776,\n",
      "          55.5528,   53.5544,   52.0715,   51.1490,   49.4429,   48.2574,\n",
      "          47.1759,   45.2133,   44.9031,   42.5675,   41.7146,   40.3162,\n",
      "          39.2917,   38.8730,   38.4060,   36.5054,   34.4352,   33.8537,\n",
      "          32.6440,   32.3013,   31.1622,   29.4608]), 6: tensor([7264.2148, 1025.9622,  821.9323,  766.3347,  668.6025,  559.7619,\n",
      "         490.6772,  444.9507,  408.4172,  347.1433,  305.5564,  228.6729,\n",
      "         222.3128,  206.2740,  182.9453,  170.8316,  157.5761,  153.2848,\n",
      "         131.4534,  127.3159,  126.6383,  111.9518,  103.7711,  100.5675,\n",
      "          94.8066,   89.5136,   87.9663,   82.4812,   80.3807,   75.5823,\n",
      "          75.0115,   72.9168,   70.3978,   67.0040,   66.0912,   62.3881,\n",
      "          61.8958,   60.0585,   58.2270,   55.7178,   53.8061,   52.5783,\n",
      "          49.9245,   48.5092,   48.1664,   46.0542,   45.5001,   43.5996,\n",
      "          41.0822,   40.6236,   39.1936,   38.3900,   36.9234,   36.2563,\n",
      "          35.1064,   34.7974,   33.9532,   31.8801,   31.6158,   30.7459,\n",
      "          29.4570,   27.8902,   26.1976,   25.0586]), 7: tensor([9169.8828, 1493.6215, 1051.6710,  827.7892,  704.5131,  648.9139,\n",
      "         604.9308,  552.1254,  529.1401,  405.0483,  379.9564,  326.4211,\n",
      "         275.0515,  241.4179,  225.5518,  223.2711,  190.9410,  185.7654,\n",
      "         180.1633,  159.7839,  149.9531,  140.9736,  129.3146,  123.8428,\n",
      "         118.9251,  117.3516,  110.0507,  101.6755,  100.0895,   94.0084,\n",
      "          89.3221,   87.6476,   83.3122,   83.0177,   79.0291,   77.2495,\n",
      "          76.2627,   75.2523,   72.6804,   71.6437,   68.6938,   65.9932,\n",
      "          62.9971,   61.2922,   59.8471,   58.7325,   57.2511,   55.7114,\n",
      "          54.3630,   52.0995,   49.9387,   48.9176,   47.1538,   46.9003,\n",
      "          44.8975,   43.6781,   41.0143,   40.4583,   40.1294,   39.0184,\n",
      "          37.9315,   34.9119,   34.0490,   32.1201]), 8: tensor([9594.4805, 1124.0610, 1052.3362, 1004.5804,  869.7374,  671.5615,\n",
      "         621.2519,  523.7562,  475.3379,  443.6017,  403.6830,  317.1657,\n",
      "         286.7527,  249.1192,  224.5342,  216.5424,  185.4713,  184.0177,\n",
      "         174.7412,  168.6416,  144.3980,  139.9327,  130.4194,  128.2969,\n",
      "         119.3904,  116.7353,  110.4874,  104.6957,  102.1369,  100.8237,\n",
      "          93.3471,   87.9545,   87.0240,   81.4927,   76.3620,   74.8747,\n",
      "          72.8455,   72.1757,   69.9687,   67.7925,   63.9059,   63.6517,\n",
      "          61.2246,   57.5016,   57.1501,   54.6067,   54.3347,   52.6592,\n",
      "          51.7210,   50.4249,   48.6767,   46.9900,   45.1177,   43.7656,\n",
      "          41.3862,   39.9052,   39.1436,   38.6954,   36.9722,   35.7993,\n",
      "          34.9810,   33.8001,   32.5454,   30.0804]), 9: tensor([10423.7295,  1075.6924,  1005.2132,   868.2537,   845.2270,   768.0860,\n",
      "          653.5539,   533.2513,   448.2159,   377.9797,   349.4870,   321.1977,\n",
      "          258.0855,   248.5007,   222.5318,   209.2140,   185.0927,   176.9587,\n",
      "          170.2491,   150.6953,   141.7572,   133.9512,   126.0533,   120.6464,\n",
      "          114.3579,   106.9467,   101.3006,   100.5582,    96.6379,    94.3995,\n",
      "           91.8883,    90.4309,    87.2283,    83.8863,    80.6998,    77.5528,\n",
      "           76.5992,    75.3139,    74.1166,    70.6445,    68.6330,    63.5477,\n",
      "           61.1679,    60.1646,    56.9889,    55.9821,    54.9749,    54.2968,\n",
      "           52.9092,    51.9405,    50.1667,    48.8075,    46.8235,    46.0916,\n",
      "           45.4860,    44.6703,    41.4841,    40.2458,    37.5727,    36.9767,\n",
      "           36.2387,    35.1060,    33.5660,    30.2874])}\n"
     ]
    }
   ],
   "source": [
    "singular_vector = {label: torch.svd(class_feature_data[label])[1] for label in class_feature_data}\n",
    "print(singular_vector)"
   ]
  },
  {
   "cell_type": "markdown",
   "metadata": {},
   "source": [
    "#### Note here, we don't truncate singular vector anymore to get BSIE value because the singular vector of each training class feature space contains values apparently greater than 0 almost at each entry. "
   ]
  },
  {
   "cell_type": "code",
   "execution_count": 18,
   "metadata": {},
   "outputs": [
    {
     "name": "stdout",
     "output_type": "stream",
     "text": [
      "{0: 0.06290901692797712, 1: 0.06283993894178475, 2: 0.06495570296841247, 3: 0.06314928805309994, 4: 0.06271682050760996, 5: 0.06349178769941977, 6: 0.06271585297092763, 7: 0.062195439924848994, 8: 0.06215472324653093, 9: 0.0626122551072612}\n"
     ]
    }
   ],
   "source": [
    "entropy = {label: BSIE(singular_vector[label]).item() for label in singular_vector}\n",
    "print(entropy)"
   ]
  },
  {
   "cell_type": "markdown",
   "metadata": {},
   "source": [
    "#### Now, we also want to test the performance of the original CNN model we trained with all our Cifar-10 training dataset(the embedding function) on the test set of each class and training set of each class:"
   ]
  },
  {
   "cell_type": "code",
   "execution_count": 19,
   "metadata": {},
   "outputs": [],
   "source": [
    "classes = {0: (0, 5000), 1:(5000, 10000), 2:(10000, 15000), 3:(15000, 20000), 4:(20000, 25000), 5:(25000, 30000), 6:(30000, 35000), 7:(35000, 40000), 8:(40000, 45000), 9:(45000, 50000)}\n",
    "training_data_by_class = {category: Subset(ImageFolder('./data/cifar10/train/', transform=ToTensor()), range(classes[category][0], classes[category][1])) for category in classes}\n"
   ]
  },
  {
   "cell_type": "code",
   "execution_count": 20,
   "metadata": {},
   "outputs": [
    {
     "name": "stdout",
     "output_type": "stream",
     "text": [
      "{0: 0.9573644399642944, 1: 0.958903968334198, 2: 0.9373161196708679, 3: 0.9092830419540405, 4: 0.9389591217041016, 5: 0.8896943926811218, 6: 0.9713580012321472, 7: 0.961638331413269, 8: 0.9748736619949341, 9: 0.9779986143112183}\n"
     ]
    }
   ],
   "source": [
    "train_accu_by_class = {label: evaluate(modelCNN, DeviceDataLoader(DataLoader(training_data_by_class[label], batch_size*2), device))['val_acc'] for label in range(10)}\n",
    "print(train_accu_by_class)\n"
   ]
  },
  {
   "cell_type": "markdown",
   "metadata": {},
   "source": [
    "##### Above is the original CNN model's performance on the training data of each class. We will also test its performance on the test set of each class below:"
   ]
  },
  {
   "cell_type": "code",
   "execution_count": 21,
   "metadata": {},
   "outputs": [],
   "source": [
    "test_classes = {0: (0, 1000), 1:(1000, 2000), 2:(2000, 3000), 3:(3000, 4000), 4:(4000, 5000), 5:(5000, 6000), 6:(6000, 7000), 7:(7000, 8000), 8:(8000, 9000), 9:(9000, 10000)}\n",
    "test_data_by_class = {category: Subset(ImageFolder('./data/cifar10/test/', transform=ToTensor()), range(test_classes[category][0], test_classes[category][1])) for category in test_classes}"
   ]
  },
  {
   "cell_type": "code",
   "execution_count": 23,
   "metadata": {},
   "outputs": [
    {
     "name": "stdout",
     "output_type": "stream",
     "text": [
      "{0: 0.8268453478813171, 1: 0.8339170217514038, 2: 0.6760169863700867, 3: 0.5890355706214905, 4: 0.711274266242981, 5: 0.6273572444915771, 6: 0.8606209754943848, 7: 0.8032732009887695, 8: 0.8591729402542114, 9: 0.8756734728813171}\n"
     ]
    }
   ],
   "source": [
    "test_accu_by_class = {label: evaluate(modelCNN, DeviceDataLoader(DataLoader(test_data_by_class[label], batch_size*2), device))['val_acc'] for label in range(10)}\n",
    "print(test_accu_by_class)"
   ]
  },
  {
   "cell_type": "code",
   "execution_count": 19,
   "metadata": {},
   "outputs": [],
   "source": [
    "\n",
    "def select_subsample(classified_training_data, n_sample = 500): \n",
    "    subsample = {i: random_split(classified_training_data[i], [n_sample, len(classified_training_data[i]) - n_sample])[0] for i in classified_training_data}\n",
    "    return subsample"
   ]
  },
  {
   "cell_type": "code",
   "execution_count": 20,
   "metadata": {},
   "outputs": [],
   "source": [
    "random_seed = 42\n",
    "torch.manual_seed(random_seed);\n",
    "\n",
    "    \n",
    "val_size = 5000\n",
    "train_size = len(training_dataset) - val_size\n",
    "\n",
    "train_ds, val_ds = random_split(training_dataset, [train_size, val_size])\n"
   ]
  },
  {
   "cell_type": "code",
   "execution_count": 21,
   "metadata": {},
   "outputs": [],
   "source": [
    "num_epochs = 15\n",
    "opt_func = torch.optim.Adam\n",
    "lr = 0.001"
   ]
  },
  {
   "cell_type": "code",
   "execution_count": 22,
   "metadata": {},
   "outputs": [],
   "source": []
  },
  {
   "cell_type": "code",
   "execution_count": 27,
   "metadata": {},
   "outputs": [
    {
     "name": "stdout",
     "output_type": "stream",
     "text": [
      "Epoch [0], train_loss: 2.2793, val_loss: 2.2826, val_acc: 0.1891\n",
      "Epoch [1], train_loss: 2.0833, val_loss: 2.0292, val_acc: 0.2501\n",
      "Epoch [2], train_loss: 1.9772, val_loss: 1.9202, val_acc: 0.2910\n",
      "Epoch [3], train_loss: 1.8858, val_loss: 1.8891, val_acc: 0.3022\n",
      "Epoch [4], train_loss: 1.8110, val_loss: 1.7992, val_acc: 0.3504\n",
      "Epoch [5], train_loss: 1.7019, val_loss: 1.7757, val_acc: 0.3452\n",
      "Epoch [6], train_loss: 1.6241, val_loss: 1.6574, val_acc: 0.3906\n",
      "Epoch [7], train_loss: 1.5477, val_loss: 1.7318, val_acc: 0.3777\n",
      "Epoch [8], train_loss: 1.4906, val_loss: 1.6906, val_acc: 0.3928\n",
      "Epoch [9], train_loss: 1.4331, val_loss: 1.6168, val_acc: 0.4066\n",
      "Epoch [10], train_loss: 1.3606, val_loss: 1.5777, val_acc: 0.4470\n",
      "Epoch [11], train_loss: 1.3211, val_loss: 1.6990, val_acc: 0.4171\n",
      "Epoch [12], train_loss: 1.2683, val_loss: 1.5414, val_acc: 0.4448\n",
      "Epoch [13], train_loss: 1.1922, val_loss: 1.5715, val_acc: 0.4465\n",
      "Epoch [14], train_loss: 1.0944, val_loss: 1.5704, val_acc: 0.4676\n",
      "   class  Test_Accuracy  Entropy_difference\n",
      "0      0       0.622610            0.014078\n",
      "1      1       0.707192            0.002114\n",
      "2      2       0.358421            0.007086\n",
      "3      3       0.525460            0.006590\n",
      "4      4       0.253148            0.020114\n",
      "5      5       0.257250            0.017768\n",
      "6      6       0.598104            0.029339\n",
      "7      7       0.453585            0.030361\n",
      "8      8       0.468830            0.004933\n",
      "9      9       0.494646            0.003825\n",
      "Epoch [0], train_loss: 2.2962, val_loss: 2.2242, val_acc: 0.1447\n",
      "Epoch [1], train_loss: 2.0923, val_loss: 2.2479, val_acc: 0.1942\n",
      "Epoch [2], train_loss: 2.0170, val_loss: 2.0276, val_acc: 0.2490\n",
      "Epoch [3], train_loss: 1.8864, val_loss: 1.9094, val_acc: 0.2804\n",
      "Epoch [4], train_loss: 1.7962, val_loss: 1.7860, val_acc: 0.3298\n",
      "Epoch [5], train_loss: 1.7403, val_loss: 1.7312, val_acc: 0.3471\n",
      "Epoch [6], train_loss: 1.6900, val_loss: 1.8087, val_acc: 0.3237\n",
      "Epoch [7], train_loss: 1.6739, val_loss: 1.6997, val_acc: 0.3639\n",
      "Epoch [8], train_loss: 1.5869, val_loss: 1.6036, val_acc: 0.4129\n",
      "Epoch [9], train_loss: 1.5142, val_loss: 1.5136, val_acc: 0.4369\n",
      "Epoch [10], train_loss: 1.4218, val_loss: 1.5826, val_acc: 0.4339\n",
      "Epoch [11], train_loss: 1.3943, val_loss: 1.4320, val_acc: 0.4703\n",
      "Epoch [12], train_loss: 1.2981, val_loss: 1.4383, val_acc: 0.4740\n",
      "Epoch [13], train_loss: 1.2347, val_loss: 1.4161, val_acc: 0.5019\n",
      "Epoch [14], train_loss: 1.1516, val_loss: 1.3716, val_acc: 0.5194\n",
      "   class  Test_Accuracy  Entropy_difference\n",
      "0      0       0.377125            0.003914\n",
      "1      1       0.723265            0.007972\n",
      "2      2       0.374265            0.034306\n",
      "3      3       0.375816            0.019846\n",
      "4      4       0.408054            0.039160\n",
      "5      5       0.275712            0.007812\n",
      "6      6       0.644301            0.017609\n",
      "7      7       0.589936            0.006099\n",
      "8      8       0.736822            0.015721\n",
      "9      9       0.639947            0.006187\n",
      "Epoch [0], train_loss: 2.2951, val_loss: 2.2354, val_acc: 0.1774\n",
      "Epoch [1], train_loss: 2.1069, val_loss: 2.1938, val_acc: 0.1918\n",
      "Epoch [2], train_loss: 2.0511, val_loss: 1.9533, val_acc: 0.2978\n",
      "Epoch [3], train_loss: 1.8682, val_loss: 1.8002, val_acc: 0.3312\n",
      "Epoch [4], train_loss: 1.7506, val_loss: 1.8050, val_acc: 0.3252\n",
      "Epoch [5], train_loss: 1.6747, val_loss: 1.6134, val_acc: 0.4100\n",
      "Epoch [6], train_loss: 1.5900, val_loss: 1.6368, val_acc: 0.3951\n",
      "Epoch [7], train_loss: 1.4876, val_loss: 1.5613, val_acc: 0.4263\n",
      "Epoch [8], train_loss: 1.3879, val_loss: 1.5072, val_acc: 0.4520\n",
      "Epoch [9], train_loss: 1.2904, val_loss: 1.5088, val_acc: 0.4698\n",
      "Epoch [10], train_loss: 1.2135, val_loss: 1.4811, val_acc: 0.4662\n",
      "Epoch [11], train_loss: 1.1103, val_loss: 1.5037, val_acc: 0.4864\n",
      "Epoch [12], train_loss: 0.9823, val_loss: 1.4967, val_acc: 0.5046\n",
      "Epoch [13], train_loss: 0.8518, val_loss: 1.6442, val_acc: 0.4727\n",
      "Epoch [14], train_loss: 0.8201, val_loss: 1.6675, val_acc: 0.5065\n",
      "   class  Test_Accuracy  Entropy_difference\n",
      "0      0       0.495416            0.006013\n",
      "1      1       0.568222            0.001799\n",
      "2      2       0.327148            0.008930\n",
      "3      3       0.500885            0.008937\n",
      "4      4       0.337098            0.020269\n",
      "5      5       0.478780            0.009062\n",
      "6      6       0.565499            0.011304\n",
      "7      7       0.487362            0.010223\n",
      "8      8       0.657468            0.003217\n",
      "9      9       0.713281            0.004219\n",
      "Epoch [0], train_loss: 2.3038, val_loss: 2.2867, val_acc: 0.1193\n",
      "Epoch [1], train_loss: 2.1690, val_loss: 2.0369, val_acc: 0.2476\n",
      "Epoch [2], train_loss: 1.9057, val_loss: 1.8081, val_acc: 0.3097\n",
      "Epoch [3], train_loss: 1.7573, val_loss: 1.6878, val_acc: 0.3648\n",
      "Epoch [4], train_loss: 1.6615, val_loss: 1.8923, val_acc: 0.3277\n",
      "Epoch [5], train_loss: 1.5795, val_loss: 1.6187, val_acc: 0.3966\n",
      "Epoch [6], train_loss: 1.5229, val_loss: 1.5097, val_acc: 0.4359\n",
      "Epoch [7], train_loss: 1.4665, val_loss: 1.5002, val_acc: 0.4422\n",
      "Epoch [8], train_loss: 1.4092, val_loss: 1.4927, val_acc: 0.4542\n",
      "Epoch [9], train_loss: 1.3515, val_loss: 1.5249, val_acc: 0.4479\n",
      "Epoch [10], train_loss: 1.3363, val_loss: 1.4621, val_acc: 0.4813\n",
      "Epoch [11], train_loss: 1.2881, val_loss: 1.4293, val_acc: 0.4849\n",
      "Epoch [12], train_loss: 1.2517, val_loss: 1.4847, val_acc: 0.4641\n",
      "Epoch [13], train_loss: 1.1521, val_loss: 1.3902, val_acc: 0.4938\n",
      "Epoch [14], train_loss: 1.0860, val_loss: 1.4198, val_acc: 0.4932\n",
      "   class  Test_Accuracy  Entropy_difference\n",
      "0      0       0.671358            0.004378\n",
      "1      1       0.642681            0.015472\n",
      "2      2       0.439729            0.018403\n",
      "3      3       0.389717            0.022417\n",
      "4      4       0.381078            0.019922\n",
      "5      5       0.469669            0.025808\n",
      "6      6       0.440453            0.003830\n",
      "7      7       0.582801            0.014037\n",
      "8      8       0.698426            0.011681\n",
      "9      9       0.269336            0.003637\n",
      "Epoch [0], train_loss: 2.2057, val_loss: 2.1419, val_acc: 0.2097\n",
      "Epoch [1], train_loss: 2.0220, val_loss: 2.0155, val_acc: 0.2413\n",
      "Epoch [2], train_loss: 1.9466, val_loss: 1.9416, val_acc: 0.3030\n",
      "Epoch [3], train_loss: 1.8720, val_loss: 1.8320, val_acc: 0.3072\n",
      "Epoch [4], train_loss: 1.7749, val_loss: 1.8042, val_acc: 0.3347\n",
      "Epoch [5], train_loss: 1.6966, val_loss: 1.8176, val_acc: 0.3405\n",
      "Epoch [6], train_loss: 1.6232, val_loss: 1.6935, val_acc: 0.3934\n",
      "Epoch [7], train_loss: 1.5731, val_loss: 1.5849, val_acc: 0.4283\n",
      "Epoch [8], train_loss: 1.4331, val_loss: 1.6411, val_acc: 0.4096\n",
      "Epoch [9], train_loss: 1.3889, val_loss: 1.4673, val_acc: 0.4536\n",
      "Epoch [10], train_loss: 1.2849, val_loss: 1.7780, val_acc: 0.3939\n",
      "Epoch [11], train_loss: 1.2600, val_loss: 1.4468, val_acc: 0.4748\n",
      "Epoch [12], train_loss: 1.1316, val_loss: 1.4625, val_acc: 0.4862\n",
      "Epoch [13], train_loss: 1.0564, val_loss: 1.6385, val_acc: 0.4588\n",
      "Epoch [14], train_loss: 1.0324, val_loss: 1.4426, val_acc: 0.5137\n",
      "   class  Test_Accuracy  Entropy_difference\n",
      "0      0       0.568486            0.005740\n",
      "1      1       0.600161            0.007813\n",
      "2      2       0.321668            0.002601\n",
      "3      3       0.389821            0.022687\n",
      "4      4       0.285915            0.004900\n",
      "5      5       0.455595            0.012550\n",
      "6      6       0.610604            0.002708\n",
      "7      7       0.550781            0.003968\n",
      "8      8       0.754262            0.018144\n",
      "9      9       0.528171            0.003306\n",
      "Epoch [0], train_loss: 2.2291, val_loss: 2.0609, val_acc: 0.2024\n",
      "Epoch [1], train_loss: 1.9578, val_loss: 1.9114, val_acc: 0.2733\n",
      "Epoch [2], train_loss: 1.8314, val_loss: 1.9724, val_acc: 0.2595\n",
      "Epoch [3], train_loss: 1.7722, val_loss: 2.0794, val_acc: 0.2737\n",
      "Epoch [4], train_loss: 1.7102, val_loss: 1.7199, val_acc: 0.3389\n",
      "Epoch [5], train_loss: 1.6123, val_loss: 1.5882, val_acc: 0.3869\n",
      "Epoch [6], train_loss: 1.5566, val_loss: 1.8560, val_acc: 0.3352\n",
      "Epoch [7], train_loss: 1.4913, val_loss: 1.9306, val_acc: 0.3496\n",
      "Epoch [8], train_loss: 1.4777, val_loss: 1.5023, val_acc: 0.4232\n",
      "Epoch [9], train_loss: 1.3487, val_loss: 1.5396, val_acc: 0.4416\n",
      "Epoch [10], train_loss: 1.2854, val_loss: 1.4643, val_acc: 0.4713\n",
      "Epoch [11], train_loss: 1.2272, val_loss: 1.4394, val_acc: 0.4832\n",
      "Epoch [12], train_loss: 1.1712, val_loss: 1.3302, val_acc: 0.5192\n",
      "Epoch [13], train_loss: 1.1468, val_loss: 1.3239, val_acc: 0.5201\n",
      "Epoch [14], train_loss: 1.0126, val_loss: 1.3763, val_acc: 0.5276\n",
      "   class  Test_Accuracy  Entropy_difference\n",
      "0      0       0.571783            0.007414\n",
      "1      1       0.674322            0.006112\n",
      "2      2       0.210443            0.010513\n",
      "3      3       0.222691            0.022895\n",
      "4      4       0.515970            0.021176\n",
      "5      5       0.488051            0.012604\n",
      "6      6       0.819405            0.012962\n",
      "7      7       0.537063            0.007431\n",
      "8      8       0.607698            0.006666\n",
      "9      9       0.635271            0.001314\n",
      "Epoch [0], train_loss: 2.2194, val_loss: 2.0841, val_acc: 0.2378\n",
      "Epoch [1], train_loss: 2.0466, val_loss: 1.9792, val_acc: 0.2730\n",
      "Epoch [2], train_loss: 1.9245, val_loss: 1.8368, val_acc: 0.3136\n",
      "Epoch [3], train_loss: 1.8123, val_loss: 1.8026, val_acc: 0.3193\n",
      "Epoch [4], train_loss: 1.7449, val_loss: 1.7879, val_acc: 0.3349\n",
      "Epoch [5], train_loss: 1.6388, val_loss: 1.7129, val_acc: 0.3691\n",
      "Epoch [6], train_loss: 1.5644, val_loss: 1.6426, val_acc: 0.4089\n",
      "Epoch [7], train_loss: 1.5032, val_loss: 1.8377, val_acc: 0.3679\n",
      "Epoch [8], train_loss: 1.4394, val_loss: 1.5165, val_acc: 0.4498\n",
      "Epoch [9], train_loss: 1.3590, val_loss: 1.5098, val_acc: 0.4381\n",
      "Epoch [10], train_loss: 1.2575, val_loss: 1.5268, val_acc: 0.4563\n",
      "Epoch [11], train_loss: 1.1568, val_loss: 1.4962, val_acc: 0.4855\n",
      "Epoch [12], train_loss: 1.0382, val_loss: 1.5325, val_acc: 0.4995\n",
      "Epoch [13], train_loss: 0.9916, val_loss: 1.5315, val_acc: 0.4932\n",
      "Epoch [14], train_loss: 0.8750, val_loss: 1.5916, val_acc: 0.4954\n",
      "   class  Test_Accuracy  Entropy_difference\n",
      "0      0       0.421369            0.000238\n",
      "1      1       0.570738            0.013335\n",
      "2      2       0.468566            0.016573\n",
      "3      3       0.425712            0.012025\n",
      "4      4       0.234743            0.009782\n",
      "5      5       0.463798            0.024369\n",
      "6      6       0.598093            0.013906\n",
      "7      7       0.608881            0.003379\n",
      "8      8       0.585719            0.004871\n",
      "9      9       0.577309            0.009123\n",
      "Epoch [0], train_loss: 2.3046, val_loss: 2.3038, val_acc: 0.1030\n",
      "Epoch [1], train_loss: 2.2085, val_loss: 2.0556, val_acc: 0.2340\n",
      "Epoch [2], train_loss: 2.0256, val_loss: 1.9211, val_acc: 0.2977\n",
      "Epoch [3], train_loss: 1.8639, val_loss: 1.8299, val_acc: 0.3174\n",
      "Epoch [4], train_loss: 1.7781, val_loss: 1.8564, val_acc: 0.3241\n",
      "Epoch [5], train_loss: 1.6683, val_loss: 1.6997, val_acc: 0.3694\n",
      "Epoch [6], train_loss: 1.6035, val_loss: 1.5880, val_acc: 0.4013\n",
      "Epoch [7], train_loss: 1.4834, val_loss: 1.5804, val_acc: 0.4301\n",
      "Epoch [8], train_loss: 1.4091, val_loss: 1.4999, val_acc: 0.4572\n",
      "Epoch [9], train_loss: 1.3395, val_loss: 1.5089, val_acc: 0.4652\n",
      "Epoch [10], train_loss: 1.2205, val_loss: 1.4863, val_acc: 0.4733\n",
      "Epoch [11], train_loss: 1.0847, val_loss: 1.5265, val_acc: 0.4707\n",
      "Epoch [12], train_loss: 1.0276, val_loss: 1.5414, val_acc: 0.4968\n",
      "Epoch [13], train_loss: 0.8646, val_loss: 1.5969, val_acc: 0.5193\n",
      "Epoch [14], train_loss: 0.7334, val_loss: 1.6604, val_acc: 0.5016\n",
      "   class  Test_Accuracy  Entropy_difference\n",
      "0      0       0.444922            0.016073\n",
      "1      1       0.565223            0.018206\n",
      "2      2       0.465005            0.005244\n",
      "3      3       0.353998            0.025635\n",
      "4      4       0.293049            0.035653\n",
      "5      5       0.509593            0.001449\n",
      "6      6       0.523231            0.004660\n",
      "7      7       0.541797            0.014113\n",
      "8      8       0.749931            0.008137\n",
      "9      9       0.585524            0.004532\n",
      "Epoch [0], train_loss: 2.2816, val_loss: 2.1514, val_acc: 0.1842\n",
      "Epoch [1], train_loss: 2.0696, val_loss: 2.0058, val_acc: 0.2563\n",
      "Epoch [2], train_loss: 1.9099, val_loss: 1.9230, val_acc: 0.2911\n",
      "Epoch [3], train_loss: 1.8137, val_loss: 1.7561, val_acc: 0.3424\n",
      "Epoch [4], train_loss: 1.7233, val_loss: 1.7323, val_acc: 0.3540\n",
      "Epoch [5], train_loss: 1.6131, val_loss: 1.6668, val_acc: 0.3851\n",
      "Epoch [6], train_loss: 1.5798, val_loss: 1.7585, val_acc: 0.3693\n",
      "Epoch [7], train_loss: 1.5220, val_loss: 1.5379, val_acc: 0.4278\n",
      "Epoch [8], train_loss: 1.3824, val_loss: 1.5016, val_acc: 0.4389\n",
      "Epoch [9], train_loss: 1.3069, val_loss: 1.5147, val_acc: 0.4500\n",
      "Epoch [10], train_loss: 1.2635, val_loss: 1.5062, val_acc: 0.4613\n",
      "Epoch [11], train_loss: 1.1646, val_loss: 1.5512, val_acc: 0.4730\n",
      "Epoch [12], train_loss: 1.0392, val_loss: 1.4501, val_acc: 0.4922\n",
      "Epoch [13], train_loss: 0.9148, val_loss: 1.4525, val_acc: 0.5132\n",
      "Epoch [14], train_loss: 0.7744, val_loss: 1.4577, val_acc: 0.5273\n",
      "   class  Test_Accuracy  Entropy_difference\n",
      "0      0       0.451677            0.004687\n",
      "1      1       0.729412            0.013111\n",
      "2      2       0.359226            0.008857\n",
      "3      3       0.316567            0.020229\n",
      "4      4       0.549391            0.004643\n",
      "5      5       0.376700            0.000858\n",
      "6      6       0.507744            0.007987\n",
      "7      7       0.603608            0.005174\n",
      "8      8       0.748552            0.002708\n",
      "9      9       0.659605            0.001825\n",
      "Epoch [0], train_loss: 2.2688, val_loss: 2.1256, val_acc: 0.2171\n",
      "Epoch [1], train_loss: 2.0545, val_loss: 2.0310, val_acc: 0.2303\n",
      "Epoch [2], train_loss: 1.9748, val_loss: 1.9421, val_acc: 0.2907\n",
      "Epoch [3], train_loss: 1.8919, val_loss: 1.8581, val_acc: 0.3129\n",
      "Epoch [4], train_loss: 1.7888, val_loss: 1.8039, val_acc: 0.3336\n",
      "Epoch [5], train_loss: 1.7569, val_loss: 1.7940, val_acc: 0.3461\n",
      "Epoch [6], train_loss: 1.6707, val_loss: 1.7064, val_acc: 0.3633\n",
      "Epoch [7], train_loss: 1.5891, val_loss: 1.6088, val_acc: 0.4213\n",
      "Epoch [8], train_loss: 1.5234, val_loss: 1.7349, val_acc: 0.3977\n",
      "Epoch [9], train_loss: 1.4895, val_loss: 1.5332, val_acc: 0.4577\n",
      "Epoch [10], train_loss: 1.3630, val_loss: 1.4831, val_acc: 0.4627\n",
      "Epoch [11], train_loss: 1.2930, val_loss: 1.4462, val_acc: 0.4871\n",
      "Epoch [12], train_loss: 1.2215, val_loss: 1.5380, val_acc: 0.4607\n",
      "Epoch [13], train_loss: 1.1335, val_loss: 1.4197, val_acc: 0.5028\n",
      "Epoch [14], train_loss: 1.0363, val_loss: 1.3707, val_acc: 0.5248\n",
      "   class  Test_Accuracy  Entropy_difference\n",
      "0      0       0.622564            0.022657\n",
      "1      1       0.675528            0.009906\n",
      "2      2       0.289798            0.005144\n",
      "3      3       0.259789            0.026417\n",
      "4      4       0.491935            0.007007\n",
      "5      5       0.509076            0.022349\n",
      "6      6       0.626517            0.014322\n",
      "7      7       0.626804            0.004591\n",
      "8      8       0.566602            0.008757\n",
      "9      9       0.607778            0.024109\n",
      "Epoch [0], train_loss: 2.3020, val_loss: 2.3030, val_acc: 0.1115\n",
      "Epoch [1], train_loss: 2.2040, val_loss: 2.2188, val_acc: 0.1441\n",
      "Epoch [2], train_loss: 2.0817, val_loss: 2.2123, val_acc: 0.1901\n",
      "Epoch [3], train_loss: 2.0415, val_loss: 1.9537, val_acc: 0.2644\n",
      "Epoch [4], train_loss: 1.8705, val_loss: 1.9743, val_acc: 0.2932\n",
      "Epoch [5], train_loss: 1.8043, val_loss: 1.7857, val_acc: 0.3418\n",
      "Epoch [6], train_loss: 1.7383, val_loss: 1.7845, val_acc: 0.3264\n",
      "Epoch [7], train_loss: 1.6258, val_loss: 1.6020, val_acc: 0.3947\n",
      "Epoch [8], train_loss: 1.5546, val_loss: 1.7251, val_acc: 0.3739\n",
      "Epoch [9], train_loss: 1.4903, val_loss: 1.5072, val_acc: 0.4328\n",
      "Epoch [10], train_loss: 1.4554, val_loss: 1.5247, val_acc: 0.4351\n",
      "Epoch [11], train_loss: 1.3621, val_loss: 1.4719, val_acc: 0.4497\n",
      "Epoch [12], train_loss: 1.3221, val_loss: 1.4518, val_acc: 0.4643\n",
      "Epoch [13], train_loss: 1.2461, val_loss: 1.4144, val_acc: 0.4865\n",
      "Epoch [14], train_loss: 1.1879, val_loss: 1.3779, val_acc: 0.5110\n",
      "   class  Test_Accuracy  Entropy_difference\n",
      "0      0       0.641808            0.004180\n",
      "1      1       0.760742            0.018097\n",
      "2      2       0.287799            0.001948\n",
      "3      3       0.387305            0.014185\n",
      "4      4       0.251264            0.011313\n",
      "5      5       0.436156            0.017922\n",
      "6      6       0.528171            0.017081\n",
      "7      7       0.614832            0.011740\n",
      "8      8       0.661535            0.006214\n",
      "9      9       0.545979            0.000457\n",
      "Epoch [0], train_loss: 2.3051, val_loss: 2.3022, val_acc: 0.1074\n",
      "Epoch [1], train_loss: 2.1875, val_loss: 2.0884, val_acc: 0.2148\n",
      "Epoch [2], train_loss: 2.0110, val_loss: 2.1197, val_acc: 0.2249\n",
      "Epoch [3], train_loss: 1.8950, val_loss: 1.8171, val_acc: 0.3083\n",
      "Epoch [4], train_loss: 1.7354, val_loss: 1.8716, val_acc: 0.3104\n",
      "Epoch [5], train_loss: 1.7172, val_loss: 1.7247, val_acc: 0.3659\n",
      "Epoch [6], train_loss: 1.6849, val_loss: 1.6269, val_acc: 0.4009\n",
      "Epoch [7], train_loss: 1.5282, val_loss: 1.6901, val_acc: 0.3924\n",
      "Epoch [8], train_loss: 1.4874, val_loss: 1.4971, val_acc: 0.4526\n",
      "Epoch [9], train_loss: 1.3812, val_loss: 1.4840, val_acc: 0.4436\n",
      "Epoch [10], train_loss: 1.3937, val_loss: 1.4241, val_acc: 0.4838\n",
      "Epoch [11], train_loss: 1.2014, val_loss: 1.5568, val_acc: 0.4802\n",
      "Epoch [12], train_loss: 1.1479, val_loss: 1.5711, val_acc: 0.4691\n",
      "Epoch [13], train_loss: 1.0515, val_loss: 1.4594, val_acc: 0.5102\n",
      "Epoch [14], train_loss: 0.8875, val_loss: 1.6763, val_acc: 0.4800\n",
      "   class  Test_Accuracy  Entropy_difference\n",
      "0      0       0.587397            0.005915\n",
      "1      1       0.640211            0.019782\n",
      "2      2       0.327999            0.013751\n",
      "3      3       0.445347            0.018563\n",
      "4      4       0.222737            0.023048\n",
      "5      5       0.504343            0.009057\n",
      "6      6       0.167532            0.001437\n",
      "7      7       0.613350            0.005258\n",
      "8      8       0.754182            0.006227\n",
      "9      9       0.523277            0.009566\n",
      "Epoch [0], train_loss: 2.3056, val_loss: 2.3024, val_acc: 0.1097\n",
      "Epoch [1], train_loss: 2.2604, val_loss: 2.4027, val_acc: 0.1727\n",
      "Epoch [2], train_loss: 2.1039, val_loss: 2.0013, val_acc: 0.2380\n",
      "Epoch [3], train_loss: 1.9209, val_loss: 1.9280, val_acc: 0.2587\n",
      "Epoch [4], train_loss: 1.8585, val_loss: 1.8354, val_acc: 0.2933\n",
      "Epoch [5], train_loss: 1.7648, val_loss: 1.8446, val_acc: 0.3128\n",
      "Epoch [6], train_loss: 1.7794, val_loss: 1.7681, val_acc: 0.3156\n",
      "Epoch [7], train_loss: 1.6822, val_loss: 1.6958, val_acc: 0.3518\n",
      "Epoch [8], train_loss: 1.6161, val_loss: 1.8464, val_acc: 0.3242\n",
      "Epoch [9], train_loss: 1.5911, val_loss: 1.6950, val_acc: 0.3743\n",
      "Epoch [10], train_loss: 1.5179, val_loss: 1.5960, val_acc: 0.4087\n",
      "Epoch [11], train_loss: 1.4557, val_loss: 1.6634, val_acc: 0.3802\n",
      "Epoch [12], train_loss: 1.4633, val_loss: 1.4936, val_acc: 0.4337\n",
      "Epoch [13], train_loss: 1.3758, val_loss: 1.4306, val_acc: 0.4665\n",
      "Epoch [14], train_loss: 1.3106, val_loss: 1.4488, val_acc: 0.4616\n",
      "   class  Test_Accuracy  Entropy_difference\n",
      "0      0       0.592233            0.009516\n",
      "1      1       0.638063            0.015124\n",
      "2      2       0.419508            0.000803\n",
      "3      3       0.157790            0.022485\n",
      "4      4       0.347748            0.004073\n",
      "5      5       0.493244            0.016783\n",
      "6      6       0.486811            0.009440\n",
      "7      7       0.584903            0.004786\n",
      "8      8       0.539740            0.003243\n",
      "9      9       0.396703            0.013889\n",
      "Epoch [0], train_loss: 2.3072, val_loss: 2.2308, val_acc: 0.1711\n",
      "Epoch [1], train_loss: 2.2688, val_loss: 2.1392, val_acc: 0.1917\n",
      "Epoch [2], train_loss: 2.0789, val_loss: 2.0144, val_acc: 0.2488\n",
      "Epoch [3], train_loss: 1.9383, val_loss: 1.9608, val_acc: 0.2521\n",
      "Epoch [4], train_loss: 1.8562, val_loss: 1.8677, val_acc: 0.2951\n",
      "Epoch [5], train_loss: 1.7686, val_loss: 1.7806, val_acc: 0.3182\n",
      "Epoch [6], train_loss: 1.6904, val_loss: 1.7216, val_acc: 0.3574\n",
      "Epoch [7], train_loss: 1.6141, val_loss: 1.7017, val_acc: 0.3675\n",
      "Epoch [8], train_loss: 1.5349, val_loss: 1.5794, val_acc: 0.4043\n",
      "Epoch [9], train_loss: 1.4500, val_loss: 1.5576, val_acc: 0.4295\n",
      "Epoch [10], train_loss: 1.3957, val_loss: 1.4657, val_acc: 0.4598\n",
      "Epoch [11], train_loss: 1.3259, val_loss: 1.5254, val_acc: 0.4436\n",
      "Epoch [12], train_loss: 1.2413, val_loss: 1.4412, val_acc: 0.4770\n",
      "Epoch [13], train_loss: 1.1574, val_loss: 1.4176, val_acc: 0.5037\n",
      "Epoch [14], train_loss: 1.0660, val_loss: 1.3816, val_acc: 0.5105\n",
      "   class  Test_Accuracy  Entropy_difference\n",
      "0      0       0.618727            0.021163\n",
      "1      1       0.636374            0.003015\n",
      "2      2       0.413580            0.004657\n",
      "3      3       0.344830            0.001691\n",
      "4      4       0.296036            0.007257\n",
      "5      5       0.468107            0.007325\n",
      "6      6       0.601298            0.015795\n",
      "7      7       0.534984            0.000649\n",
      "8      8       0.695703            0.004589\n",
      "9      9       0.629768            0.017176\n",
      "Epoch [0], train_loss: 2.2791, val_loss: 2.1145, val_acc: 0.1896\n",
      "Epoch [1], train_loss: 2.0873, val_loss: 2.0031, val_acc: 0.2395\n",
      "Epoch [2], train_loss: 1.9569, val_loss: 1.9897, val_acc: 0.2642\n",
      "Epoch [3], train_loss: 1.8592, val_loss: 1.9084, val_acc: 0.2841\n",
      "Epoch [4], train_loss: 1.7947, val_loss: 1.7360, val_acc: 0.3441\n",
      "Epoch [5], train_loss: 1.6905, val_loss: 1.7716, val_acc: 0.3465\n",
      "Epoch [6], train_loss: 1.6160, val_loss: 1.6946, val_acc: 0.3605\n",
      "Epoch [7], train_loss: 1.5474, val_loss: 1.5534, val_acc: 0.4239\n",
      "Epoch [8], train_loss: 1.5212, val_loss: 1.4828, val_acc: 0.4624\n",
      "Epoch [9], train_loss: 1.4059, val_loss: 1.7119, val_acc: 0.3553\n",
      "Epoch [10], train_loss: 1.4201, val_loss: 1.4594, val_acc: 0.4725\n",
      "Epoch [11], train_loss: 1.2604, val_loss: 1.4177, val_acc: 0.4787\n",
      "Epoch [12], train_loss: 1.2107, val_loss: 1.4491, val_acc: 0.4945\n",
      "Epoch [13], train_loss: 1.1456, val_loss: 1.4261, val_acc: 0.5072\n",
      "Epoch [14], train_loss: 1.1048, val_loss: 1.3219, val_acc: 0.5464\n",
      "   class  Test_Accuracy  Entropy_difference\n",
      "0      0       0.498518            0.004596\n",
      "1      1       0.755204            0.001737\n",
      "2      2       0.306916            0.009633\n",
      "3      3       0.322599            0.001192\n",
      "4      4       0.480584            0.022871\n",
      "5      5       0.382571            0.008064\n",
      "6      6       0.747541            0.000414\n",
      "7      7       0.538189            0.009129\n",
      "8      8       0.794497            0.011811\n",
      "9      9       0.562856            0.004009\n"
     ]
    },
    {
     "data": {
      "image/png": "[encoded data removed]",
      "text/plain": [
       "<Figure size 640x480 with 1 Axes>"
      ]
     },
     "metadata": {},
     "output_type": "display_data"
    }
   ],
   "source": [
    "import time\n",
    "fig, ax = plt.subplots(facecolor='lightgrey')\n",
    "for i in range(15):\n",
    "    subsample_500 = select_subsample(training_data_by_class)\n",
    "    subset_feature = {category: [] for category in subsample_500}\n",
    "\n",
    "    for category in subsample_500:\n",
    "        for img, label in subsample_500[category]:\n",
    "            output = modelCNN(to_device(img.unsqueeze(0), device))\n",
    "            subset_feature[label].append(features['18'])\n",
    "    for label in subset_feature:\n",
    "        subset_feature[label] = torch.cat(subset_feature[label], dim = 0).T \n",
    "    subset_singular_vector = {label: torch.svd(subset_feature[label])[1] for label in subset_feature}\n",
    "    # Here, we will compute the entropy value of each subset for each class\n",
    "    subset_entropy = {label: BSIE(subset_singular_vector[label]).item() for label in subset_singular_vector}\n",
    "\n",
    "\n",
    "    # Then we compute how much the subset entropy value deviates from the whole (training) set entropy value for each class\n",
    "    # If, for example, the class 3 subset entropy value is close to the whole training set entropy value of class 3, then it means\n",
    "    # the data structure of this subset is similar to the data structure of the whole class 3, so if this subset is a part of the \n",
    "    # whole training set, then the CNN trained on this training set is expected to perform well in classify the training data in class 3.\n",
    "    # Furthermore, because of our assumption that the test set of class 3 shares a similar data structure as the data structure of the \n",
    "    # training set of class 3, the CNN model might also perform well on the test set of class 3. \n",
    "\n",
    "\n",
    "    entropy_diff = {label: np.abs(entropy[label] - subset_entropy[label])/entropy[label] for label in entropy}\n",
    "    cifar10sub = ConcatDataset([subsample_500[class_name] for class_name in subsample_500])\n",
    "    cifar10sub_loader = DataLoader(cifar10sub, batch_size = batch_size, shuffle = True, pin_memory = True)\n",
    "    cifar10sub_train_loader = DeviceDataLoader(cifar10sub_loader, device)\n",
    "\n",
    "\n",
    "    val_dl = DataLoader(val_ds, batch_size*2, num_workers=4, pin_memory=True)\n",
    "    \n",
    "    model = to_device(Cifar10CnnModel(), device)\n",
    "    history = fit(num_epochs, lr, model, cifar10sub_train_loader, val_dl, opt_func)\n",
    "\n",
    "\n",
    "    # We evaluate the CNN trained with combined subsets from each class on the training set of each class\n",
    "\n",
    "    train_accuracy_by_class = {label: [] for label in training_data_by_class}\n",
    "\n",
    "    for label in training_data_by_class:\n",
    "        train_data = training_data_by_class[label]\n",
    "        train_data_loader = DeviceDataLoader(DataLoader(train_data, batch_size*2), device)\n",
    "        result = evaluate(model, train_data_loader)\n",
    "        result\n",
    "        train_accuracy_by_class[label] = result['val_acc']\n",
    "\n",
    "    df1 = pd.DataFrame(list(train_accuracy_by_class.items()), columns=['class', 'Test_Accuracy']) # training set accuracy by class of this submodel\n",
    "\n",
    "    \n",
    "    df2 = pd.DataFrame(list(entropy_diff.items()), columns=['class', 'Entropy_difference'])\n",
    "    merged_df = pd.merge(df1, df2, on='class')\n",
    "    print(merged_df)\n",
    "    plt.scatter(data=merged_df, x='Entropy_difference', y='Test_Accuracy', color = 'brown')\n",
    "    fig.canvas.draw()\n",
    "    fig.canvas.flush_events()\n",
    "    time.sleep(0.1)\n",
    "\n",
    "plt.xlabel('Entropy Difference')\n",
    "plt.ylabel('Test Accuracy (by class)')   \n",
    "plt.show()"
   ]
  },
  {
   "cell_type": "markdown",
   "metadata": {},
   "source": [
    "Not finished yet, will update later this week. "
   ]
  },
  {
   "cell_type": "code",
   "execution_count": 26,
   "metadata": {},
   "outputs": [
    {
     "data": {
      "image/png": "[encoded data removed]",
      "text/plain": [
       "<Figure size 640x480 with 1 Axes>"
      ]
     },
     "metadata": {},
     "output_type": "display_data"
    }
   ],
   "source": [
    "import time\n",
    "fig, ax1 = plt.subplots(facecolor='lightgrey')\n",
    "for i in range(2):\n",
    "    y = np.random.rand(4)\n",
    "    x = np.random.rand(4)\n",
    "    df = pd.DataFrame({\"xc\": x, \"yc\": y})\n",
    "    \n",
    "    plt.scatter(x = \"xc\", y = \"yc\", data = df, color = 'brown')\n",
    "    fig.canvas.draw()\n",
    "    fig.canvas.flush_events()\n",
    "    time.sleep(0.1)\n",
    "    \n",
    "plt.xlabel('X axis')\n",
    "plt.ylabel('Y axis')\n",
    "plt.show()"
   ]
  },
  {
   "cell_type": "code",
   "execution_count": null,
   "metadata": {},
   "outputs": [],
   "source": []
  }
 ],
 "metadata": {
  "kernelspec": {
   "display_name": "Python 3",
   "language": "python",
   "name": "python3"
  },
  "language_info": {
   "codemirror_mode": {
    "name": "ipython",
    "version": 3
   },
   "file_extension": ".py",
   "mimetype": "text/x-python",
   "name": "python",
   "nbconvert_exporter": "python",
   "pygments_lexer": "ipython3",
   "version": "3.11.9"
  }
 },
 "nbformat": 4,
 "nbformat_minor": 2
}
