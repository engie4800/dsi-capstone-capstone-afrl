{
 "cells": [
  {
   "cell_type": "markdown",
   "metadata": {},
   "source": [
    "# Boltzmann-Shannon Interaction Entropy (in Python version)"
   ]
  },
  {
   "cell_type": "code",
   "execution_count": 6,
   "metadata": {},
   "outputs": [],
   "source": [
    "import numpy as np\n",
    "import copy as cp\n",
    "\n",
    "def BSIE(x, limits=None, k=None):\n",
    "    x = np.sort(x)          # sort the values before starting\n",
    "    if limits:\n",
    "        # If limits are provided as bounds of the state space, \n",
    "        #       we must add them to the data before defining \n",
    "        #       bins, making sure that the histogram p does not\n",
    "        #       include the added boundaries in frequency counts\n",
    "        #  If you want to include a single limit, use \n",
    "        #       float('nan') for the other one, e.g., \n",
    "        #       BSIE(x,[0,float('nan')]).\n",
    "        if not np.isnan(limits[0]):\n",
    "            if x[0] < limits[0]:\n",
    "                print('ERROR: data outside limits')\n",
    "                return\n",
    "            else:\n",
    "                y = np.concatenate(([limits[0]], x))\n",
    "        else:\n",
    "            y = cp.deepcopy(x)  # if bound is nan skip\n",
    "\n",
    "        if not np.isnan(limits[1]):\n",
    "            if x[-1] > limits[1]:\n",
    "                print('ERROR: data outside limits')\n",
    "                return\n",
    "            else:\n",
    "                y = np.concatenate((y, [limits[1]]))\n",
    "    else:\n",
    "        # If no limits are boundaries make sure that the \n",
    "        #       min and max of the data are used as boundary\n",
    "        y=cp.deepcopy(x)    \n",
    "\n",
    "    if k:\n",
    "        # Defaults to using k=N-1 so that the quantiles can be \n",
    "        #       estimated quickly using differences, but allows\n",
    "        #       the option of course graining the measure with k \n",
    "        t = np.linspace(0, 1, k + 1)\n",
    "        # using y instead of x includes the limits if provided\n",
    "        #       for geometric distribution\n",
    "        s = np.quantile(y, t)\n",
    "        l = s[1:] - s[:-1]\n",
    "        q = l / np.sum(l)\n",
    "    else:\n",
    "        # Use the extreme values as bounds (with default k)\n",
    "        #       Use difference to estimate quantiles for k=N\n",
    "        q = (y[1:] - y[:-1]) / (np.max(y) - np.min(y))\n",
    "        # Let k = N-1 so that p end up being the same length as q \n",
    "        k = len(y) - 1              \n",
    "\n",
    "    t = np.linspace(y[0], y[-1], k + 1)     # create bins using y\n",
    "    # but only count the actual data x (not the limits in y)\n",
    "    h,bins = np.histogram(x, t)         \n",
    "    p = h / np.sum(h)\n",
    "    \n",
    "    #print(f'this is p:{p}')\n",
    "    #print(f'this is q:{q}')\n",
    "    # Divergence: Boltzmann-Shannon Interaction Divergence\n",
    "    m = (p + q) / 2\n",
    "    ix = np.argwhere(p)\n",
    "    p = p[ix]\n",
    "    m_ = m[ix]  # use dummy variable so that m remains for q\n",
    "    D = np.dot(p.T, np.log(p / m_))\n",
    "    ix = np.argwhere(q)\n",
    "    q = q[ix]\n",
    "    m = m[ix]\n",
    "    # Since we use np.log, must normalize by dividing by log(2)\n",
    "    D = 1 - 0.5 * (D + np.dot(q.T, np.log(q / m))) / np.log(2)\n",
    "    return D"
   ]
  },
  {
   "cell_type": "code",
   "execution_count": 7,
   "metadata": {},
   "outputs": [
    {
     "data": {
      "text/plain": [
       "array([[0.57118847]])"
      ]
     },
     "execution_count": 7,
     "metadata": {},
     "output_type": "execute_result"
    }
   ],
   "source": [
    "BSIE(x = [2.5130, 0.9454, 0.3630, 0.1876])"
   ]
  },
  {
   "cell_type": "code",
   "execution_count": null,
   "metadata": {},
   "outputs": [],
   "source": []
  }
 ],
 "metadata": {
  "kernelspec": {
   "display_name": "Python 3",
   "language": "python",
   "name": "python3"
  },
  "language_info": {
   "codemirror_mode": {
    "name": "ipython",
    "version": 3
   },
   "file_extension": ".py",
   "mimetype": "text/x-python",
   "name": "python",
   "nbconvert_exporter": "python",
   "pygments_lexer": "ipython3",
   "version": "3.11.8"
  }
 },
 "nbformat": 4,
 "nbformat_minor": 2
}
