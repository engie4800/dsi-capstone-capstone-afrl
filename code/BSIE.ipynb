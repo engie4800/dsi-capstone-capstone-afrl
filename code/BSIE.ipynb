{
 "cells": [
  {
   "cell_type": "markdown",
   "metadata": {},
   "source": [
    "# Boltzmann-Shannon Interaction Entropy (in Python version)"
   ]
  },
  {
   "cell_type": "code",
   "execution_count": 12,
   "metadata": {},
   "outputs": [],
   "source": [
    "import numpy as np\n",
    "import copy as cp\n",
    "\n",
    "def BSIE(x, limits=None, k=None):\n",
    "    x = np.sort(x)\n",
    "    if limits is None:\n",
    "        # Use the extreme values as bounds (with default k)\n",
    "        q = (x[1:] - x[:-1]) / (np.max(x) - np.min(x))\n",
    "        k = len(x) - 1\n",
    "    elif k is None:\n",
    "        # Use default k value, but add limits that are provided before\n",
    "        # computing quantiles\n",
    "        if not np.isnan(limits[0]):\n",
    "            if x[0] < limits[0]:\n",
    "                print('ERROR: data outside limits')\n",
    "                return\n",
    "            else:\n",
    "                y = np.concatenate(([limits[0]], x))\n",
    "        else:\n",
    "            y = x  # if bound is nan skip\n",
    "\n",
    "        if not np.isnan(limits[1]):\n",
    "            if x[-1] > limits[1]:\n",
    "                print('ERROR: data outside limits')\n",
    "                return\n",
    "            else:\n",
    "                y = np.concatenate((y, [limits[1]]))\n",
    "        elif np.isnan(limits[0]):\n",
    "            y = x  # if bound is nan skip\n",
    "\n",
    "        q = (y[1:] - y[:-1]) / (np.max(y) - np.min(y))\n",
    "        k = len(y) - 1\n",
    "    else:\n",
    "        # Geometry optional with k bins\n",
    "        t = np.linspace(0, 1, k + 1)\n",
    "        s = np.percentile(x, t * 100) ####\n",
    "        l = s[1:] - s[:-1]\n",
    "        q = l / np.sum(l)\n",
    "        print(f'this is q:{q}')\n",
    "\n",
    "    t = np.linspace(np.min(x), np.max(x), k + 1) ##### y[0], y[-1]\n",
    "    s = np.digitize(x, t)\n",
    "    h = np.bincount(s, minlength = k + 1) ######\n",
    "    p = h / np.sum(h)\n",
    "    \n",
    "    print(f'this is p:{p}')\n",
    "    print(f'this is q:{q}')\n",
    "    # Divergence: Boltzmann-Shannon Interaction Divergence\n",
    "    m = (p + q) / 2\n",
    "    ix = ~p\n",
    "    p = p[ix]\n",
    "    m_ = cp.deepcopy(m)\n",
    "    m_[ix] = []\n",
    "    D = np.dot(p, np.log(p / m_))\n",
    "    ix = ~q\n",
    "    q = q[ix]\n",
    "    m[ix] = []\n",
    "    D = 1 - 0.5 * (D + np.dot(q, np.log(q / m))) / np.log(2)\n",
    "\n",
    "    return D"
   ]
  },
  {
   "cell_type": "code",
   "execution_count": 13,
   "metadata": {},
   "outputs": [
    {
     "name": "stdout",
     "output_type": "stream",
     "text": [
      "this is p:[0.   0.75 0.   0.   0.25]\n",
      "this is q:[0.07542788 0.25045154 0.67412058]\n"
     ]
    },
    {
     "ename": "ValueError",
     "evalue": "operands could not be broadcast together with shapes (5,) (3,) ",
     "output_type": "error",
     "traceback": [
      "\u001b[1;31m---------------------------------------------------------------------------\u001b[0m",
      "\u001b[1;31mValueError\u001b[0m                                Traceback (most recent call last)",
      "Cell \u001b[1;32mIn[13], line 1\u001b[0m\n\u001b[1;32m----> 1\u001b[0m \u001b[43mBSIE\u001b[49m\u001b[43m(\u001b[49m\u001b[43mx\u001b[49m\u001b[43m \u001b[49m\u001b[38;5;241;43m=\u001b[39;49m\u001b[43m \u001b[49m\u001b[43m[\u001b[49m\u001b[38;5;241;43m2.5130\u001b[39;49m\u001b[43m,\u001b[49m\u001b[43m \u001b[49m\u001b[38;5;241;43m0.9454\u001b[39;49m\u001b[43m,\u001b[49m\u001b[43m \u001b[49m\u001b[38;5;241;43m0.3630\u001b[39;49m\u001b[43m,\u001b[49m\u001b[43m \u001b[49m\u001b[38;5;241;43m0.1876\u001b[39;49m\u001b[43m]\u001b[49m\u001b[43m)\u001b[49m\n",
      "Cell \u001b[1;32mIn[12], line 49\u001b[0m, in \u001b[0;36mBSIE\u001b[1;34m(x, limits, k)\u001b[0m\n\u001b[0;32m     47\u001b[0m \u001b[38;5;28mprint\u001b[39m(\u001b[38;5;124mf\u001b[39m\u001b[38;5;124m'\u001b[39m\u001b[38;5;124mthis is q:\u001b[39m\u001b[38;5;132;01m{\u001b[39;00mq\u001b[38;5;132;01m}\u001b[39;00m\u001b[38;5;124m'\u001b[39m)\n\u001b[0;32m     48\u001b[0m \u001b[38;5;66;03m# Divergence: Boltzmann-Shannon Interaction Divergence\u001b[39;00m\n\u001b[1;32m---> 49\u001b[0m m \u001b[38;5;241m=\u001b[39m (\u001b[43mp\u001b[49m\u001b[43m \u001b[49m\u001b[38;5;241;43m+\u001b[39;49m\u001b[43m \u001b[49m\u001b[43mq\u001b[49m) \u001b[38;5;241m/\u001b[39m \u001b[38;5;241m2\u001b[39m\n\u001b[0;32m     50\u001b[0m ix \u001b[38;5;241m=\u001b[39m \u001b[38;5;241m~\u001b[39mp\n\u001b[0;32m     51\u001b[0m p \u001b[38;5;241m=\u001b[39m p[ix]\n",
      "\u001b[1;31mValueError\u001b[0m: operands could not be broadcast together with shapes (5,) (3,) "
     ]
    }
   ],
   "source": [
    "BSIE(x = [2.5130, 0.9454, 0.3630, 0.1876])"
   ]
  }
 ],
 "metadata": {
  "kernelspec": {
   "display_name": "Python 3",
   "language": "python",
   "name": "python3"
  },
  "language_info": {
   "codemirror_mode": {
    "name": "ipython",
    "version": 3
   },
   "file_extension": ".py",
   "mimetype": "text/x-python",
   "name": "python",
   "nbconvert_exporter": "python",
   "pygments_lexer": "ipython3",
   "version": "3.11.8"
  }
 },
 "nbformat": 4,
 "nbformat_minor": 2
}
