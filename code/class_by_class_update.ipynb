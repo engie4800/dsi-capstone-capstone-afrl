{
 "cells": [
  {
   "cell_type": "markdown",
   "metadata": {},
   "source": [
    "### In this file, we simply repeat what we did in class_by_class.ipynb file multiple times to discover a more robust correlation between the entropy difference (of a subsample and its class) and the corresponding test set accuracy"
   ]
  },
  {
   "cell_type": "code",
   "execution_count": 1,
   "metadata": {},
   "outputs": [],
   "source": [
    "import torch\n",
    "import torchvision\n",
    "import tarfile\n",
    "from torchvision.datasets.utils import download_url\n",
    "from torch.utils.data import random_split, DataLoader, SubsetRandomSampler, Subset, ConcatDataset\n",
    "import os\n",
    "from Truncate import truncate\n",
    "from BSI_Entropy import BSIE\n",
    "import numpy as np\n",
    "from torchvision.datasets import ImageFolder\n",
    "from torchvision.transforms import ToTensor\n",
    "import pandas as pd\n",
    "import seaborn as sns\n",
    "import matplotlib.pyplot as plt"
   ]
  },
  {
   "cell_type": "code",
   "execution_count": 2,
   "metadata": {},
   "outputs": [],
   "source": [
    "data_dir = './data/cifar10'\n",
    "training_dataset = ImageFolder(data_dir+'/train', transform=ToTensor())\n",
    "test_dataset = ImageFolder(data_dir+'/test', transform=ToTensor())"
   ]
  },
  {
   "cell_type": "code",
   "execution_count": 3,
   "metadata": {},
   "outputs": [],
   "source": [
    "def get_default_device():\n",
    "    \"\"\"Pick GPU if available, else CPU\"\"\"\n",
    "    if torch.cuda.is_available():\n",
    "        return torch.device('cuda')\n",
    "    else:\n",
    "        return torch.device('cpu')\n",
    "    \n",
    "def to_device(data, device):\n",
    "    \"\"\"Move tensor(s) to chosen device\"\"\"\n",
    "    if isinstance(data, (list,tuple)):\n",
    "        return [to_device(x, device) for x in data]\n",
    "    return data.to(device, non_blocking=True)\n",
    "class DeviceDataLoader():\n",
    "    \"\"\"Wrap a dataloader to move data to a device\"\"\"\n",
    "    def __init__(self, dl, device):\n",
    "        self.dl = dl\n",
    "        self.device = device\n",
    "        \n",
    "    def __iter__(self):\n",
    "        \"\"\"Yield a batch of data after moving it to device\"\"\"\n",
    "        for b in self.dl: \n",
    "            yield to_device(b, self.device)\n",
    "\n",
    "    def __len__(self):\n",
    "        \"\"\"Number of batches\"\"\"\n",
    "        return len(self.dl)"
   ]
  },
  {
   "cell_type": "code",
   "execution_count": 4,
   "metadata": {},
   "outputs": [],
   "source": [
    "import torch.nn as nn\n",
    "import torch.nn.functional as F\n",
    "\n",
    "class ImageClassificationBase(nn.Module):\n",
    "    def training_step(self, batch):\n",
    "        images, labels = batch \n",
    "        out = self(images)                  # Generate predictions\n",
    "        loss = F.cross_entropy(out, labels) # Calculate loss\n",
    "        return loss\n",
    "    \n",
    "    def validation_step(self, batch):\n",
    "        images, labels = batch \n",
    "        out = self(images)                    # Generate predictions\n",
    "        loss = F.cross_entropy(out, labels)   # Calculate loss\n",
    "        acc = accuracy(out, labels)           # Calculate accuracy\n",
    "        return {'val_loss': loss.detach(), 'val_acc': acc}\n",
    "        \n",
    "    def validation_epoch_end(self, outputs):\n",
    "        batch_losses = [x['val_loss'] for x in outputs]\n",
    "        epoch_loss = torch.stack(batch_losses).mean()   # Combine losses\n",
    "        batch_accs = [x['val_acc'] for x in outputs]\n",
    "        epoch_acc = torch.stack(batch_accs).mean()      # Combine accuracies\n",
    "        return {'val_loss': epoch_loss.item(), 'val_acc': epoch_acc.item()}\n",
    "    def epoch_end(self, epoch, result):\n",
    "        print(\"Epoch [{}], train_loss: {:.4f}, val_loss: {:.4f}, val_acc: {:.4f}\".format(\n",
    "            epoch, result['train_loss'], result['val_loss'], result['val_acc']))\n",
    "        \n",
    "def accuracy(outputs, labels):\n",
    "    _, preds = torch.max(outputs, dim=1)\n",
    "    return torch.tensor(torch.sum(preds == labels).item() / len(preds))"
   ]
  },
  {
   "cell_type": "code",
   "execution_count": 5,
   "metadata": {},
   "outputs": [],
   "source": [
    "@torch.no_grad()\n",
    "def evaluate(model, val_loader):\n",
    "    model.eval()\n",
    "    outputs = [model.validation_step(batch) for batch in val_loader]\n",
    "    return model.validation_epoch_end(outputs)\n",
    "\n",
    "def fit(epochs, lr, model, train_loader, val_loader, opt_func=torch.optim.SGD):\n",
    "    history = []\n",
    "    optimizer = opt_func(model.parameters(), lr)\n",
    "    for epoch in range(epochs):\n",
    "        # Training Phase \n",
    "        model.train()\n",
    "        train_losses = []\n",
    "        for batch in train_loader:\n",
    "            loss = model.training_step(batch)\n",
    "            train_losses.append(loss)\n",
    "            loss.backward()\n",
    "            optimizer.step()\n",
    "            optimizer.zero_grad()\n",
    "        # Validation phase\n",
    "        result = evaluate(model, val_loader)\n",
    "        result['train_loss'] = torch.stack(train_losses).mean().item()\n",
    "        model.epoch_end(epoch, result)\n",
    "        history.append(result)\n",
    "    return history"
   ]
  },
  {
   "cell_type": "code",
   "execution_count": 6,
   "metadata": {},
   "outputs": [],
   "source": [
    "class Cifar10CnnModel(ImageClassificationBase):\n",
    "    def __init__(self):\n",
    "        super().__init__()\n",
    "        self.network = nn.Sequential(\n",
    "            nn.Conv2d(3, 32, kernel_size=3, padding=1),\n",
    "            nn.ReLU(),\n",
    "            nn.Conv2d(32, 64, kernel_size=3, stride=1, padding=1),\n",
    "            nn.ReLU(),\n",
    "            nn.MaxPool2d(2, 2), # output: 64 x 16 x 16\n",
    "\n",
    "            nn.Conv2d(64, 128, kernel_size=3, stride=1, padding=1),\n",
    "            nn.ReLU(),\n",
    "            nn.Conv2d(128, 128, kernel_size=3, stride=1, padding=1),\n",
    "            nn.ReLU(),\n",
    "            nn.MaxPool2d(2, 2), # output: 128 x 8 x 8\n",
    "\n",
    "            nn.Conv2d(128, 256, kernel_size=3, stride=1, padding=1),\n",
    "            nn.ReLU(),\n",
    "            nn.Conv2d(256, 256, kernel_size=3, stride=1, padding=1),\n",
    "            nn.ReLU(),\n",
    "            nn.MaxPool2d(2, 2), # output: 256 x 4 x 4\n",
    "\n",
    "            nn.Flatten(), \n",
    "            nn.Linear(256*4*4, 1024),\n",
    "            nn.ReLU(),\n",
    "            nn.Linear(1024, 64),\n",
    "            nn.ReLU(),\n",
    "            nn.Linear(64, 10))\n",
    "        \n",
    "    def forward(self, xb):\n",
    "        return self.network(xb)"
   ]
  },
  {
   "cell_type": "code",
   "execution_count": 7,
   "metadata": {},
   "outputs": [
    {
     "data": {
      "text/plain": [
       "device(type='cpu')"
      ]
     },
     "execution_count": 7,
     "metadata": {},
     "output_type": "execute_result"
    }
   ],
   "source": [
    "device = get_default_device()\n",
    "device"
   ]
  },
  {
   "cell_type": "code",
   "execution_count": 8,
   "metadata": {},
   "outputs": [],
   "source": [
    "modelCNN = to_device(Cifar10CnnModel(), device)"
   ]
  },
  {
   "cell_type": "code",
   "execution_count": 9,
   "metadata": {},
   "outputs": [
    {
     "data": {
      "text/plain": [
       "<All keys matched successfully>"
      ]
     },
     "execution_count": 9,
     "metadata": {},
     "output_type": "execute_result"
    }
   ],
   "source": [
    "modelCNN.load_state_dict(torch.load('cifar10-cnn.pth')) # load our pretrained model"
   ]
  },
  {
   "cell_type": "code",
   "execution_count": 10,
   "metadata": {},
   "outputs": [
    {
     "data": {
      "text/plain": [
       "{'val_loss': 0.9372484087944031, 'val_acc': 0.7689453363418579}"
      ]
     },
     "execution_count": 10,
     "metadata": {},
     "output_type": "execute_result"
    }
   ],
   "source": [
    "from torch.utils.data.dataloader import DataLoader\n",
    "batch_size=128\n",
    "test_loader = DeviceDataLoader(DataLoader(test_dataset, batch_size*2), device)\n",
    "evaluate(modelCNN, test_loader)"
   ]
  },
  {
   "cell_type": "code",
   "execution_count": 11,
   "metadata": {},
   "outputs": [],
   "source": [
    "features = {}\n",
    "def get_features(name):\n",
    "    def hook(model, input, output):\n",
    "        features[name] = output.detach()\n",
    "\n",
    "    return hook"
   ]
  },
  {
   "cell_type": "code",
   "execution_count": 12,
   "metadata": {},
   "outputs": [
    {
     "data": {
      "text/plain": [
       "<torch.utils.hooks.RemovableHandle at 0x2551f2cb010>"
      ]
     },
     "execution_count": 12,
     "metadata": {},
     "output_type": "execute_result"
    }
   ],
   "source": [
    "modelCNN.network[18].register_forward_hook(get_features('18'))"
   ]
  },
  {
   "cell_type": "code",
   "execution_count": 13,
   "metadata": {},
   "outputs": [],
   "source": [
    "class_feature_data = {label: [] for label in range(10)}"
   ]
  },
  {
   "cell_type": "code",
   "execution_count": 14,
   "metadata": {},
   "outputs": [],
   "source": [
    "for image, label in training_dataset:\n",
    "    if label in class_feature_data:\n",
    "        output = modelCNN(to_device(image.unsqueeze(0), device))\n",
    "        class_feature_data[label].append(features['18'])"
   ]
  },
  {
   "cell_type": "code",
   "execution_count": 15,
   "metadata": {},
   "outputs": [],
   "source": [
    "for label in class_feature_data:\n",
    "    class_feature_data[label] = torch.cat(class_feature_data[label], dim = 0).T "
   ]
  },
  {
   "cell_type": "code",
   "execution_count": 16,
   "metadata": {},
   "outputs": [],
   "source": [
    "singular_vector = {label: torch.svd(class_feature_data[label])[1] for label in class_feature_data}"
   ]
  },
  {
   "cell_type": "code",
   "execution_count": 17,
   "metadata": {},
   "outputs": [
    {
     "name": "stdout",
     "output_type": "stream",
     "text": [
      "{0: 0.7522338164816981, 1: 0.7164786375096308, 2: 0.7705121005378595, 3: 0.7549243843017072, 4: 0.7589535094709319, 5: 0.7425858237466618, 6: 0.7425237755562969, 7: 0.7394834090879348, 8: 0.7432928614572687, 9: 0.727277486877264}\n"
     ]
    }
   ],
   "source": [
    "entropy = {label: BSIE(truncate(singular_vector[label], 3), [0, float('nan')]).item() for label in singular_vector}\n",
    "print(entropy)"
   ]
  },
  {
   "cell_type": "code",
   "execution_count": 18,
   "metadata": {},
   "outputs": [],
   "source": [
    "classes = {0: (0, 5000), 1:(5000, 10000), 2:(10000, 15000), 3:(15000, 20000), 4:(20000, 25000), 5:(25000, 30000), 6:(30000, 35000), 7:(35000, 40000), 8:(40000, 45000), 9:(45000, 50000)}\n",
    "training_data_by_class = {category: Subset(ImageFolder('./data/cifar10/train/', transform=ToTensor()), range(classes[category][0], classes[category][1])) for category in classes}\n"
   ]
  },
  {
   "cell_type": "code",
   "execution_count": 19,
   "metadata": {},
   "outputs": [],
   "source": [
    "\n",
    "def select_subsample(classified_training_data, n_sample = 500): \n",
    "    subsample = {i: random_split(classified_training_data[i], [n_sample, len(classified_training_data[i]) - n_sample])[0] for i in classified_training_data}\n",
    "    return subsample"
   ]
  },
  {
   "cell_type": "code",
   "execution_count": 20,
   "metadata": {},
   "outputs": [],
   "source": [
    "random_seed = 42\n",
    "torch.manual_seed(random_seed);\n",
    "\n",
    "    \n",
    "val_size = 5000\n",
    "train_size = len(training_dataset) - val_size\n",
    "\n",
    "train_ds, val_ds = random_split(training_dataset, [train_size, val_size])\n"
   ]
  },
  {
   "cell_type": "code",
   "execution_count": 21,
   "metadata": {},
   "outputs": [],
   "source": [
    "num_epochs = 15\n",
    "opt_func = torch.optim.Adam\n",
    "lr = 0.001"
   ]
  },
  {
   "cell_type": "code",
   "execution_count": 22,
   "metadata": {},
   "outputs": [],
   "source": [
    "classes = {0: (0, 1000), 1:(1000, 2000), 2:(2000, 3000), 3:(3000, 4000), 4:(4000, 5000), 5:(5000, 6000), 6:(6000, 7000), 7:(7000, 8000), 8:(8000, 9000), 9:(9000, 10000)}\n",
    "test_data_by_class = {category: Subset(ImageFolder('./data/cifar10/test/', transform=ToTensor()), range(classes[category][0], classes[category][1])) for category in classes}"
   ]
  },
  {
   "cell_type": "code",
   "execution_count": 23,
   "metadata": {},
   "outputs": [
    {
     "name": "stdout",
     "output_type": "stream",
     "text": [
      "Epoch [0], train_loss: 2.2793, val_loss: 2.2826, val_acc: 0.1891\n",
      "Epoch [1], train_loss: 2.0833, val_loss: 2.0292, val_acc: 0.2501\n",
      "Epoch [2], train_loss: 1.9772, val_loss: 1.9202, val_acc: 0.2910\n",
      "Epoch [3], train_loss: 1.8858, val_loss: 1.8891, val_acc: 0.3022\n",
      "Epoch [4], train_loss: 1.8110, val_loss: 1.7992, val_acc: 0.3504\n",
      "Epoch [5], train_loss: 1.7019, val_loss: 1.7757, val_acc: 0.3452\n",
      "Epoch [6], train_loss: 1.6241, val_loss: 1.6574, val_acc: 0.3906\n",
      "Epoch [7], train_loss: 1.5477, val_loss: 1.7318, val_acc: 0.3777\n",
      "Epoch [8], train_loss: 1.4906, val_loss: 1.6906, val_acc: 0.3928\n",
      "Epoch [9], train_loss: 1.4331, val_loss: 1.6168, val_acc: 0.4066\n",
      "Epoch [10], train_loss: 1.3606, val_loss: 1.5777, val_acc: 0.4470\n",
      "Epoch [11], train_loss: 1.3211, val_loss: 1.6990, val_acc: 0.4171\n",
      "Epoch [12], train_loss: 1.2683, val_loss: 1.5414, val_acc: 0.4448\n",
      "Epoch [13], train_loss: 1.1922, val_loss: 1.5715, val_acc: 0.4465\n",
      "Epoch [14], train_loss: 1.0944, val_loss: 1.5704, val_acc: 0.4676\n",
      "   class  Test_Accuracy  Entropy_difference\n",
      "0      0       0.622610            0.009086\n",
      "1      1       0.707192            0.001260\n",
      "2      2       0.358421            0.006982\n",
      "3      3       0.525460            0.006762\n",
      "4      4       0.253148            0.008698\n",
      "5      5       0.257250            0.013643\n",
      "6      6       0.598104            0.002755\n",
      "7      7       0.453585            0.002465\n",
      "8      8       0.468830            0.010160\n",
      "9      9       0.494646            0.003453\n",
      "Epoch [0], train_loss: 2.2962, val_loss: 2.2242, val_acc: 0.1447\n",
      "Epoch [1], train_loss: 2.0923, val_loss: 2.2479, val_acc: 0.1942\n",
      "Epoch [2], train_loss: 2.0170, val_loss: 2.0276, val_acc: 0.2490\n",
      "Epoch [3], train_loss: 1.8864, val_loss: 1.9094, val_acc: 0.2804\n",
      "Epoch [4], train_loss: 1.7962, val_loss: 1.7860, val_acc: 0.3298\n",
      "Epoch [5], train_loss: 1.7403, val_loss: 1.7312, val_acc: 0.3471\n",
      "Epoch [6], train_loss: 1.6900, val_loss: 1.8087, val_acc: 0.3237\n",
      "Epoch [7], train_loss: 1.6739, val_loss: 1.6997, val_acc: 0.3639\n",
      "Epoch [8], train_loss: 1.5869, val_loss: 1.6036, val_acc: 0.4129\n",
      "Epoch [9], train_loss: 1.5142, val_loss: 1.5136, val_acc: 0.4369\n",
      "Epoch [10], train_loss: 1.4218, val_loss: 1.5826, val_acc: 0.4339\n",
      "Epoch [11], train_loss: 1.3943, val_loss: 1.4320, val_acc: 0.4703\n",
      "Epoch [12], train_loss: 1.2981, val_loss: 1.4383, val_acc: 0.4740\n",
      "Epoch [13], train_loss: 1.2347, val_loss: 1.4161, val_acc: 0.5019\n",
      "Epoch [14], train_loss: 1.1516, val_loss: 1.3716, val_acc: 0.5194\n",
      "   class  Test_Accuracy  Entropy_difference\n",
      "0      0       0.377125            0.013392\n",
      "1      1       0.723265            0.008790\n",
      "2      2       0.374265            0.007020\n",
      "3      3       0.375816            0.004398\n",
      "4      4       0.408054            0.005463\n",
      "5      5       0.275712            0.001418\n",
      "6      6       0.644301            0.007209\n",
      "7      7       0.589936            0.004048\n",
      "8      8       0.736822            0.002594\n",
      "9      9       0.639947            0.005448\n",
      "Epoch [0], train_loss: 2.2951, val_loss: 2.2354, val_acc: 0.1774\n",
      "Epoch [1], train_loss: 2.1069, val_loss: 2.1938, val_acc: 0.1918\n",
      "Epoch [2], train_loss: 2.0511, val_loss: 1.9533, val_acc: 0.2978\n",
      "Epoch [3], train_loss: 1.8682, val_loss: 1.8002, val_acc: 0.3312\n",
      "Epoch [4], train_loss: 1.7506, val_loss: 1.8050, val_acc: 0.3252\n",
      "Epoch [5], train_loss: 1.6747, val_loss: 1.6134, val_acc: 0.4100\n",
      "Epoch [6], train_loss: 1.5900, val_loss: 1.6368, val_acc: 0.3951\n",
      "Epoch [7], train_loss: 1.4876, val_loss: 1.5613, val_acc: 0.4263\n",
      "Epoch [8], train_loss: 1.3879, val_loss: 1.5072, val_acc: 0.4520\n",
      "Epoch [9], train_loss: 1.2904, val_loss: 1.5088, val_acc: 0.4698\n",
      "Epoch [10], train_loss: 1.2135, val_loss: 1.4811, val_acc: 0.4662\n",
      "Epoch [11], train_loss: 1.1103, val_loss: 1.5037, val_acc: 0.4864\n",
      "Epoch [12], train_loss: 0.9823, val_loss: 1.4967, val_acc: 0.5046\n",
      "Epoch [13], train_loss: 0.8518, val_loss: 1.6442, val_acc: 0.4727\n",
      "Epoch [14], train_loss: 0.8201, val_loss: 1.6675, val_acc: 0.5065\n",
      "   class  Test_Accuracy  Entropy_difference\n",
      "0      0       0.495416            0.002799\n",
      "1      1       0.568222            0.002055\n",
      "2      2       0.327148            0.006797\n",
      "3      3       0.500885            0.003422\n",
      "4      4       0.337098            0.006728\n",
      "5      5       0.478780            0.018839\n",
      "6      6       0.565499            0.003738\n",
      "7      7       0.487362            0.000939\n",
      "8      8       0.657468            0.001593\n",
      "9      9       0.713281            0.002792\n",
      "Epoch [0], train_loss: 2.3038, val_loss: 2.2867, val_acc: 0.1193\n",
      "Epoch [1], train_loss: 2.1690, val_loss: 2.0369, val_acc: 0.2476\n",
      "Epoch [2], train_loss: 1.9057, val_loss: 1.8081, val_acc: 0.3097\n",
      "Epoch [3], train_loss: 1.7573, val_loss: 1.6878, val_acc: 0.3648\n",
      "Epoch [4], train_loss: 1.6615, val_loss: 1.8923, val_acc: 0.3277\n",
      "Epoch [5], train_loss: 1.5795, val_loss: 1.6187, val_acc: 0.3966\n",
      "Epoch [6], train_loss: 1.5229, val_loss: 1.5097, val_acc: 0.4359\n",
      "Epoch [7], train_loss: 1.4665, val_loss: 1.5002, val_acc: 0.4422\n",
      "Epoch [8], train_loss: 1.4092, val_loss: 1.4927, val_acc: 0.4542\n",
      "Epoch [9], train_loss: 1.3515, val_loss: 1.5249, val_acc: 0.4479\n",
      "Epoch [10], train_loss: 1.3363, val_loss: 1.4621, val_acc: 0.4813\n",
      "Epoch [11], train_loss: 1.2881, val_loss: 1.4293, val_acc: 0.4849\n",
      "Epoch [12], train_loss: 1.2517, val_loss: 1.4847, val_acc: 0.4641\n",
      "Epoch [13], train_loss: 1.1521, val_loss: 1.3902, val_acc: 0.4938\n",
      "Epoch [14], train_loss: 1.0860, val_loss: 1.4198, val_acc: 0.4932\n",
      "   class  Test_Accuracy  Entropy_difference\n",
      "0      0       0.671358            0.005988\n",
      "1      1       0.642681            0.006168\n",
      "2      2       0.439729            0.005610\n",
      "3      3       0.389717            0.004294\n",
      "4      4       0.381078            0.005373\n",
      "5      5       0.469669            0.009976\n",
      "6      6       0.440453            0.001241\n",
      "7      7       0.582801            0.004722\n",
      "8      8       0.698426            0.003390\n",
      "9      9       0.269336            0.003525\n",
      "Epoch [0], train_loss: 2.2057, val_loss: 2.1419, val_acc: 0.2097\n",
      "Epoch [1], train_loss: 2.0220, val_loss: 2.0155, val_acc: 0.2413\n",
      "Epoch [2], train_loss: 1.9466, val_loss: 1.9416, val_acc: 0.3030\n",
      "Epoch [3], train_loss: 1.8720, val_loss: 1.8320, val_acc: 0.3072\n",
      "Epoch [4], train_loss: 1.7749, val_loss: 1.8042, val_acc: 0.3347\n",
      "Epoch [5], train_loss: 1.6966, val_loss: 1.8176, val_acc: 0.3405\n",
      "Epoch [6], train_loss: 1.6232, val_loss: 1.6935, val_acc: 0.3934\n",
      "Epoch [7], train_loss: 1.5731, val_loss: 1.5849, val_acc: 0.4283\n",
      "Epoch [8], train_loss: 1.4331, val_loss: 1.6411, val_acc: 0.4096\n",
      "Epoch [9], train_loss: 1.3889, val_loss: 1.4673, val_acc: 0.4536\n",
      "Epoch [10], train_loss: 1.2849, val_loss: 1.7780, val_acc: 0.3939\n",
      "Epoch [11], train_loss: 1.2600, val_loss: 1.4468, val_acc: 0.4748\n",
      "Epoch [12], train_loss: 1.1316, val_loss: 1.4625, val_acc: 0.4862\n",
      "Epoch [13], train_loss: 1.0564, val_loss: 1.6385, val_acc: 0.4588\n",
      "Epoch [14], train_loss: 1.0324, val_loss: 1.4426, val_acc: 0.5137\n",
      "   class  Test_Accuracy  Entropy_difference\n",
      "0      0       0.568486            0.003983\n",
      "1      1       0.600161            0.005738\n",
      "2      2       0.321668            0.002609\n",
      "3      3       0.389821            0.003356\n",
      "4      4       0.285915            0.008679\n",
      "5      5       0.455595            0.002367\n",
      "6      6       0.610604            0.001007\n",
      "7      7       0.550781            0.005529\n",
      "8      8       0.754262            0.000155\n",
      "9      9       0.528171            0.008982\n",
      "Epoch [0], train_loss: 2.2291, val_loss: 2.0609, val_acc: 0.2024\n",
      "Epoch [1], train_loss: 1.9578, val_loss: 1.9114, val_acc: 0.2733\n",
      "Epoch [2], train_loss: 1.8314, val_loss: 1.9724, val_acc: 0.2595\n",
      "Epoch [3], train_loss: 1.7722, val_loss: 2.0794, val_acc: 0.2737\n",
      "Epoch [4], train_loss: 1.7102, val_loss: 1.7199, val_acc: 0.3389\n",
      "Epoch [5], train_loss: 1.6123, val_loss: 1.5882, val_acc: 0.3869\n",
      "Epoch [6], train_loss: 1.5566, val_loss: 1.8560, val_acc: 0.3352\n",
      "Epoch [7], train_loss: 1.4913, val_loss: 1.9306, val_acc: 0.3496\n",
      "Epoch [8], train_loss: 1.4777, val_loss: 1.5023, val_acc: 0.4232\n",
      "Epoch [9], train_loss: 1.3487, val_loss: 1.5396, val_acc: 0.4416\n",
      "Epoch [10], train_loss: 1.2854, val_loss: 1.4643, val_acc: 0.4713\n",
      "Epoch [11], train_loss: 1.2272, val_loss: 1.4394, val_acc: 0.4832\n",
      "Epoch [12], train_loss: 1.1712, val_loss: 1.3302, val_acc: 0.5192\n",
      "Epoch [13], train_loss: 1.1468, val_loss: 1.3239, val_acc: 0.5201\n",
      "Epoch [14], train_loss: 1.0126, val_loss: 1.3763, val_acc: 0.5276\n",
      "   class  Test_Accuracy  Entropy_difference\n",
      "0      0       0.571783            0.005759\n",
      "1      1       0.674322            0.003793\n",
      "2      2       0.210443            0.003527\n",
      "3      3       0.222691            0.001440\n",
      "4      4       0.515970            0.009902\n",
      "5      5       0.488051            0.002765\n",
      "6      6       0.819405            0.008471\n",
      "7      7       0.537063            0.002477\n",
      "8      8       0.607698            0.006171\n",
      "9      9       0.635271            0.000710\n",
      "Epoch [0], train_loss: 2.2194, val_loss: 2.0841, val_acc: 0.2378\n",
      "Epoch [1], train_loss: 2.0466, val_loss: 1.9792, val_acc: 0.2730\n",
      "Epoch [2], train_loss: 1.9245, val_loss: 1.8368, val_acc: 0.3136\n",
      "Epoch [3], train_loss: 1.8123, val_loss: 1.8026, val_acc: 0.3193\n",
      "Epoch [4], train_loss: 1.7449, val_loss: 1.7879, val_acc: 0.3349\n",
      "Epoch [5], train_loss: 1.6388, val_loss: 1.7129, val_acc: 0.3691\n",
      "Epoch [6], train_loss: 1.5644, val_loss: 1.6426, val_acc: 0.4089\n",
      "Epoch [7], train_loss: 1.5032, val_loss: 1.8377, val_acc: 0.3679\n",
      "Epoch [8], train_loss: 1.4394, val_loss: 1.5165, val_acc: 0.4498\n",
      "Epoch [9], train_loss: 1.3590, val_loss: 1.5098, val_acc: 0.4381\n",
      "Epoch [10], train_loss: 1.2575, val_loss: 1.5268, val_acc: 0.4563\n",
      "Epoch [11], train_loss: 1.1568, val_loss: 1.4962, val_acc: 0.4855\n",
      "Epoch [12], train_loss: 1.0382, val_loss: 1.5325, val_acc: 0.4995\n",
      "Epoch [13], train_loss: 0.9916, val_loss: 1.5315, val_acc: 0.4932\n",
      "Epoch [14], train_loss: 0.8750, val_loss: 1.5916, val_acc: 0.4954\n",
      "   class  Test_Accuracy  Entropy_difference\n",
      "0      0       0.421369            0.000151\n",
      "1      1       0.570738            0.006535\n",
      "2      2       0.468566            0.007185\n",
      "3      3       0.425712            0.011607\n",
      "4      4       0.234743            0.008504\n",
      "5      5       0.463798            0.009928\n",
      "6      6       0.598093            0.009631\n",
      "7      7       0.608881            0.007559\n",
      "8      8       0.585719            0.000403\n",
      "9      9       0.577309            0.001237\n",
      "Epoch [0], train_loss: 2.3046, val_loss: 2.3038, val_acc: 0.1030\n",
      "Epoch [1], train_loss: 2.2085, val_loss: 2.0556, val_acc: 0.2340\n",
      "Epoch [2], train_loss: 2.0256, val_loss: 1.9211, val_acc: 0.2977\n",
      "Epoch [3], train_loss: 1.8639, val_loss: 1.8299, val_acc: 0.3174\n",
      "Epoch [4], train_loss: 1.7781, val_loss: 1.8564, val_acc: 0.3241\n",
      "Epoch [5], train_loss: 1.6683, val_loss: 1.6997, val_acc: 0.3694\n",
      "Epoch [6], train_loss: 1.6035, val_loss: 1.5880, val_acc: 0.4013\n",
      "Epoch [7], train_loss: 1.4834, val_loss: 1.5804, val_acc: 0.4301\n",
      "Epoch [8], train_loss: 1.4091, val_loss: 1.4999, val_acc: 0.4572\n",
      "Epoch [9], train_loss: 1.3395, val_loss: 1.5089, val_acc: 0.4652\n",
      "Epoch [10], train_loss: 1.2205, val_loss: 1.4863, val_acc: 0.4733\n",
      "Epoch [11], train_loss: 1.0847, val_loss: 1.5265, val_acc: 0.4707\n",
      "Epoch [12], train_loss: 1.0276, val_loss: 1.5414, val_acc: 0.4968\n",
      "Epoch [13], train_loss: 0.8646, val_loss: 1.5969, val_acc: 0.5193\n",
      "Epoch [14], train_loss: 0.7334, val_loss: 1.6604, val_acc: 0.5016\n",
      "   class  Test_Accuracy  Entropy_difference\n",
      "0      0       0.444922            0.002846\n",
      "1      1       0.565223            0.003614\n",
      "2      2       0.465005            0.007170\n",
      "3      3       0.353998            0.007153\n",
      "4      4       0.293049            0.003564\n",
      "5      5       0.509593            0.002790\n",
      "6      6       0.523231            0.003907\n",
      "7      7       0.541797            0.008108\n",
      "8      8       0.749931            0.006447\n",
      "9      9       0.585524            0.007971\n",
      "Epoch [0], train_loss: 2.2816, val_loss: 2.1514, val_acc: 0.1842\n",
      "Epoch [1], train_loss: 2.0696, val_loss: 2.0058, val_acc: 0.2563\n",
      "Epoch [2], train_loss: 1.9099, val_loss: 1.9230, val_acc: 0.2911\n",
      "Epoch [3], train_loss: 1.8137, val_loss: 1.7561, val_acc: 0.3424\n",
      "Epoch [4], train_loss: 1.7233, val_loss: 1.7323, val_acc: 0.3540\n",
      "Epoch [5], train_loss: 1.6131, val_loss: 1.6668, val_acc: 0.3851\n",
      "Epoch [6], train_loss: 1.5798, val_loss: 1.7585, val_acc: 0.3693\n",
      "Epoch [7], train_loss: 1.5220, val_loss: 1.5379, val_acc: 0.4278\n",
      "Epoch [8], train_loss: 1.3824, val_loss: 1.5016, val_acc: 0.4389\n",
      "Epoch [9], train_loss: 1.3069, val_loss: 1.5147, val_acc: 0.4500\n",
      "Epoch [10], train_loss: 1.2635, val_loss: 1.5062, val_acc: 0.4613\n",
      "Epoch [11], train_loss: 1.1646, val_loss: 1.5512, val_acc: 0.4730\n",
      "Epoch [12], train_loss: 1.0392, val_loss: 1.4501, val_acc: 0.4922\n",
      "Epoch [13], train_loss: 0.9148, val_loss: 1.4525, val_acc: 0.5132\n",
      "Epoch [14], train_loss: 0.7744, val_loss: 1.4577, val_acc: 0.5273\n",
      "   class  Test_Accuracy  Entropy_difference\n",
      "0      0       0.451677            0.002423\n",
      "1      1       0.729412            0.007179\n",
      "2      2       0.359226            0.013158\n",
      "3      3       0.316567            0.004885\n",
      "4      4       0.549391            0.002795\n",
      "5      5       0.376700            0.018288\n",
      "6      6       0.507744            0.000714\n",
      "7      7       0.603608            0.002278\n",
      "8      8       0.748552            0.006767\n",
      "9      9       0.659605            0.004470\n",
      "Epoch [0], train_loss: 2.2688, val_loss: 2.1256, val_acc: 0.2171\n",
      "Epoch [1], train_loss: 2.0545, val_loss: 2.0310, val_acc: 0.2303\n",
      "Epoch [2], train_loss: 1.9748, val_loss: 1.9421, val_acc: 0.2907\n",
      "Epoch [3], train_loss: 1.8919, val_loss: 1.8581, val_acc: 0.3129\n",
      "Epoch [4], train_loss: 1.7888, val_loss: 1.8039, val_acc: 0.3336\n",
      "Epoch [5], train_loss: 1.7569, val_loss: 1.7940, val_acc: 0.3461\n",
      "Epoch [6], train_loss: 1.6707, val_loss: 1.7064, val_acc: 0.3633\n",
      "Epoch [7], train_loss: 1.5891, val_loss: 1.6088, val_acc: 0.4213\n",
      "Epoch [8], train_loss: 1.5234, val_loss: 1.7349, val_acc: 0.3977\n",
      "Epoch [9], train_loss: 1.4895, val_loss: 1.5332, val_acc: 0.4577\n",
      "Epoch [10], train_loss: 1.3630, val_loss: 1.4831, val_acc: 0.4627\n",
      "Epoch [11], train_loss: 1.2930, val_loss: 1.4462, val_acc: 0.4871\n",
      "Epoch [12], train_loss: 1.2215, val_loss: 1.5380, val_acc: 0.4607\n",
      "Epoch [13], train_loss: 1.1335, val_loss: 1.4197, val_acc: 0.5028\n",
      "Epoch [14], train_loss: 1.0363, val_loss: 1.3707, val_acc: 0.5248\n",
      "   class  Test_Accuracy  Entropy_difference\n",
      "0      0       0.622564            0.003632\n",
      "1      1       0.675528            0.004462\n",
      "2      2       0.289798            0.000015\n",
      "3      3       0.259789            0.003177\n",
      "4      4       0.491935            0.000349\n",
      "5      5       0.509076            0.009563\n",
      "6      6       0.626517            0.008325\n",
      "7      7       0.626804            0.000206\n",
      "8      8       0.566602            0.004209\n",
      "9      9       0.607778            0.009040\n"
     ]
    },
    {
     "data": {
      "image/png": "[encoded data removed]",
      "text/plain": [
       "<Figure size 640x480 with 1 Axes>"
      ]
     },
     "metadata": {},
     "output_type": "display_data"
    }
   ],
   "source": [
    "import time\n",
    "fig, ax = plt.subplots(facecolor='lightgrey')\n",
    "for i in range(10):\n",
    "    subsample_500 = select_subsample(training_data_by_class)\n",
    "    subset_feature = {category: [] for category in subsample_500}\n",
    "\n",
    "    for category in subsample_500:\n",
    "        for img, label in subsample_500[category]:\n",
    "            output = modelCNN(to_device(img.unsqueeze(0), device))\n",
    "            subset_feature[label].append(features['18'])\n",
    "    for label in subset_feature:\n",
    "        subset_feature[label] = torch.cat(subset_feature[label], dim = 0).T \n",
    "    subset_singular_vector = {label: torch.svd(subset_feature[label])[1] for label in subset_feature}\n",
    "    subset_entropy = {label: BSIE(truncate(subset_singular_vector[label], 3), [0, float('nan')]).item() for label in subset_singular_vector}\n",
    "    entropy_diff = {label: np.abs(entropy[label] - subset_entropy[label])/entropy[label] for label in entropy}\n",
    "    cifar10sub = ConcatDataset([subsample_500[class_name] for class_name in subsample_500])\n",
    "    cifar10sub_loader = DataLoader(cifar10sub, batch_size = batch_size, shuffle = True, pin_memory = True)\n",
    "    cifar10sub_train_loader = DeviceDataLoader(cifar10sub_loader, device)\n",
    "\n",
    "\n",
    "    val_dl = DataLoader(val_ds, batch_size*2, num_workers=4, pin_memory=True)\n",
    "    \n",
    "    model = to_device(Cifar10CnnModel(), device)\n",
    "    history = fit(num_epochs, lr, model, cifar10sub_train_loader, val_dl, opt_func)\n",
    "\n",
    "    test_accuracy_by_class = {label: [] for label in test_data_by_class}\n",
    "\n",
    "    for label in test_data_by_class:\n",
    "        test_data = training_data_by_class[label]\n",
    "        test_loader = DeviceDataLoader(DataLoader(test_data, batch_size*2), device)\n",
    "        result = evaluate(model, test_loader)\n",
    "        result\n",
    "        test_accuracy_by_class[label] = result['val_acc']\n",
    "\n",
    "    df1 = pd.DataFrame(list(test_accuracy_by_class.items()), columns=['class', 'Test_Accuracy'])\n",
    "    df2 = pd.DataFrame(list(entropy_diff.items()), columns=['class', 'Entropy_difference'])\n",
    "    merged_df = pd.merge(df1, df2, on='class')\n",
    "    print(merged_df)\n",
    "    plt.scatter(data=merged_df, x='Entropy_difference', y='Test_Accuracy', color = 'orange')\n",
    "    fig.canvas.draw()\n",
    "    fig.canvas.flush_events()\n",
    "    time.sleep(0.1)\n",
    "\n",
    "plt.xlabel('Entropy Difference')\n",
    "plt.ylabel('Test Accuracy (by class)')   \n",
    "plt.show()"
   ]
  },
  {
   "cell_type": "markdown",
   "metadata": {},
   "source": [
    "Not finished yet, will update later this week. "
   ]
  },
  {
   "cell_type": "code",
   "execution_count": 24,
   "metadata": {},
   "outputs": [
    {
     "data": {
      "image/png": "[encoded data removed]",
      "text/plain": [
       "<Figure size 640x480 with 1 Axes>"
      ]
     },
     "metadata": {},
     "output_type": "display_data"
    }
   ],
   "source": [
    "import time\n",
    "fig, ax1 = plt.subplots(facecolor='lightgrey')\n",
    "for i in range(2):\n",
    "    y = np.random.rand(4)\n",
    "    x = np.random.rand(4)\n",
    "    df = pd.DataFrame({\"xc\": x, \"yc\": y})\n",
    "    \n",
    "    plt.scatter(x = \"xc\", y = \"yc\", data = df, color = 'orange')\n",
    "    fig.canvas.draw()\n",
    "    fig.canvas.flush_events()\n",
    "    time.sleep(0.1)\n",
    "    \n",
    "plt.xlabel('X axis')\n",
    "plt.ylabel('Y axis')\n",
    "plt.show()"
   ]
  },
  {
   "cell_type": "code",
   "execution_count": null,
   "metadata": {},
   "outputs": [],
   "source": []
  }
 ],
 "metadata": {
  "kernelspec": {
   "display_name": "Python 3",
   "language": "python",
   "name": "python3"
  },
  "language_info": {
   "codemirror_mode": {
    "name": "ipython",
    "version": 3
   },
   "file_extension": ".py",
   "mimetype": "text/x-python",
   "name": "python",
   "nbconvert_exporter": "python",
   "pygments_lexer": "ipython3",
   "version": "3.11.8"
  }
 },
 "nbformat": 4,
 "nbformat_minor": 2
}
