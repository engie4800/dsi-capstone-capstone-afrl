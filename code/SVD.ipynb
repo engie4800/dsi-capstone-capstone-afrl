{
 "cells": [
  {
   "cell_type": "markdown",
   "metadata": {},
   "source": [
    "# Singular Value Decomposition (toy example) with PyTorch\n",
    "- Factorization of arbitrary rectangular matrix to attain singular vector containing the data geometry and distribution of the corresponding matrix\n",
    "- M = U S V^T "
   ]
  },
  {
   "cell_type": "code",
   "execution_count": 1,
   "metadata": {},
   "outputs": [
    {
     "data": {
      "text/plain": [
       "tensor([[0.7595, 0.5575, 0.4986, 0.6303, 0.6394, 0.2365],\n",
       "        [0.7128, 0.0491, 0.0623, 0.0117, 0.4364, 0.8856],\n",
       "        [0.8374, 0.2359, 0.9320, 0.8358, 0.2228, 0.1026],\n",
       "        [0.2931, 0.4414, 0.7421, 0.5517, 0.7170, 0.1612]])"
      ]
     },
     "execution_count": 1,
     "metadata": {},
     "output_type": "execute_result"
    }
   ],
   "source": [
    "import torch\n",
    "\n",
    "z = torch.rand(4, 6)\n",
    "z"
   ]
  },
  {
   "cell_type": "code",
   "execution_count": 2,
   "metadata": {},
   "outputs": [
    {
     "data": {
      "text/plain": [
       "torch.Size([4, 6])"
      ]
     },
     "execution_count": 2,
     "metadata": {},
     "output_type": "execute_result"
    }
   ],
   "source": [
    "z.shape"
   ]
  },
  {
   "cell_type": "code",
   "execution_count": 3,
   "metadata": {},
   "outputs": [],
   "source": [
    "U, S, V = torch.svd(z) # SVD"
   ]
  },
  {
   "cell_type": "code",
   "execution_count": 4,
   "metadata": {},
   "outputs": [
    {
     "data": {
      "text/plain": [
       "tensor([[-0.5610,  0.0225, -0.2454,  0.7903],\n",
       "        [-0.3212,  0.9144,  0.1133, -0.2189],\n",
       "        [-0.5858, -0.3383,  0.7129, -0.1848],\n",
       "        [-0.4889, -0.2213, -0.6471, -0.5416]])"
      ]
     },
     "execution_count": 4,
     "metadata": {},
     "output_type": "execute_result"
    }
   ],
   "source": [
    "U # dim: 4*4"
   ]
  },
  {
   "cell_type": "code",
   "execution_count": 5,
   "metadata": {},
   "outputs": [
    {
     "data": {
      "text/plain": [
       "tensor([2.4705, 1.0087, 0.5791, 0.3021])"
      ]
     },
     "execution_count": 5,
     "metadata": {},
     "output_type": "execute_result"
    }
   ],
   "source": [
    "S # singular vector we are looking for "
   ]
  },
  {
   "cell_type": "code",
   "execution_count": 8,
   "metadata": {},
   "outputs": [
    {
     "data": {
      "text/plain": [
       "tensor([[-0.5217,  0.3179,  0.5211,  0.4329],\n",
       "        [-0.2762, -0.1190, -0.4294,  0.4872],\n",
       "        [-0.4891, -0.4078,  0.1191, -0.6410],\n",
       "        [-0.4520, -0.3767,  0.1478,  0.1402],\n",
       "        [-0.3966,  0.1779, -0.7125, -0.0652],\n",
       "        [-0.2251,  0.7382,  0.0192, -0.3747]])"
      ]
     },
     "execution_count": 8,
     "metadata": {},
     "output_type": "execute_result"
    }
   ],
   "source": [
    "V # dim: 6*4"
   ]
  },
  {
   "cell_type": "code",
   "execution_count": 9,
   "metadata": {},
   "outputs": [
    {
     "name": "stdout",
     "output_type": "stream",
     "text": [
      "tensor([[2.4705, 0.0000, 0.0000, 0.0000],\n",
      "        [0.0000, 1.0087, 0.0000, 0.0000],\n",
      "        [0.0000, 0.0000, 0.5791, 0.0000],\n",
      "        [0.0000, 0.0000, 0.0000, 0.3021]])\n"
     ]
    }
   ],
   "source": [
    "diagonal = torch.diag(S) # convert the singular vector back to the middle diagonal matrix\n",
    "print(diagonal) # dim: 4*4"
   ]
  },
  {
   "cell_type": "markdown",
   "metadata": {},
   "source": [
    "we can multiply the three matrices back (U S V^T) to verify if we can get the original matrix back"
   ]
  },
  {
   "cell_type": "code",
   "execution_count": 10,
   "metadata": {},
   "outputs": [
    {
     "data": {
      "text/plain": [
       "tensor([[0.7595, 0.5575, 0.4986, 0.6303, 0.6394, 0.2365],\n",
       "        [0.7128, 0.0491, 0.0623, 0.0117, 0.4364, 0.8856],\n",
       "        [0.8374, 0.2359, 0.9320, 0.8358, 0.2228, 0.1026],\n",
       "        [0.2931, 0.4414, 0.7421, 0.5517, 0.7170, 0.1612]])"
      ]
     },
     "execution_count": 10,
     "metadata": {},
     "output_type": "execute_result"
    }
   ],
   "source": [
    "torch.mm(torch.mm(U, diagonal), V.t()) "
   ]
  },
  {
   "cell_type": "markdown",
   "metadata": {},
   "source": [
    "This is how we can attain the singular vector of matrices (which is about the data geometric distribution we will further use)"
   ]
  },
  {
   "cell_type": "code",
   "execution_count": null,
   "metadata": {},
   "outputs": [],
   "source": []
  }
 ],
 "metadata": {
  "kernelspec": {
   "display_name": "Python 3",
   "language": "python",
   "name": "python3"
  },
  "language_info": {
   "codemirror_mode": {
    "name": "ipython",
    "version": 3
   },
   "file_extension": ".py",
   "mimetype": "text/x-python",
   "name": "python",
   "nbconvert_exporter": "python",
   "pygments_lexer": "ipython3",
   "version": "3.11.8"
  }
 },
 "nbformat": 4,
 "nbformat_minor": 2
}
